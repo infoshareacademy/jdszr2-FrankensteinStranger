{
 "cells": [
  {
   "cell_type": "code",
   "execution_count": null,
   "metadata": {},
   "outputs": [],
   "source": [
    "import numpy as np\n",
    "import pandas as pd\n",
    "import matplotlib.pyplot as plt\n",
    "import seaborn as sns\n",
    "import ipywidgets as widgets\n",
    "%matplotlib inline"
   ]
  },
  {
   "cell_type": "code",
   "execution_count": null,
   "metadata": {},
   "outputs": [],
   "source": [
    "df = pd.read_csv(\"energy_gross_prod_UE.csv\")\n",
    "df"
   ]
  },
  {
   "cell_type": "code",
   "execution_count": null,
   "metadata": {},
   "outputs": [],
   "source": [
    "heat = df[df[\"wide_category\"] == \"Electricity_and_Heat\"]\n",
    "heat"
   ]
  },
  {
   "cell_type": "code",
   "execution_count": null,
   "metadata": {},
   "outputs": [],
   "source": [
    "#wszystkie kategorie/transakcje są w tych samych jednostkach\n",
    "print(heat[\"unit\"].unique())\n",
    "print(heat[\"transaction\"].unique())\n",
    "print(heat[\"category\"].unique())\n",
    "print(heat[\"country_or_area\"].unique())"
   ]
  },
  {
   "cell_type": "code",
   "execution_count": null,
   "metadata": {},
   "outputs": [],
   "source": [
    "#suma wyprodukowanej energii nuklearnej posortowana wg lat i krajów\n",
    "grouped_heat = heat.groupby(by=[\"year\",\"country_or_area\"], as_index = False)\n",
    "heat_sum = pd.DataFrame(grouped_heat[\"quantity\"].sum())\n",
    "heat_sum"
   ]
  },
  {
   "cell_type": "code",
   "execution_count": null,
   "metadata": {},
   "outputs": [],
   "source": [
    "#top 5 pod względem \"quantity\" w 2014 (czyli ostatnim okresie w próbie)\n",
    "heat_sum[heat_sum[\"year\"] == 2014].nlargest(5, \"quantity\")"
   ]
  },
  {
   "cell_type": "code",
   "execution_count": null,
   "metadata": {},
   "outputs": [],
   "source": [
    "#DF dla średniej z top 5 \n",
    "#warunki\n",
    "var_1 = heat_sum[\"country_or_area\"] == \"Germany\"\n",
    "var_2 = heat_sum[\"country_or_area\"] == \"Spain\"\n",
    "var_3 = heat_sum[\"country_or_area\"] == \"United Kingdom\"\n",
    "var_4 = heat_sum[\"country_or_area\"] == \"France\"\n",
    "var_5 = heat_sum[\"country_or_area\"] == \"Italy\"\n",
    "#DF - wszystkie z top 5\n",
    "top_5_heat = heat_sum[var_1 | var_2 | var_3 | var_4 | var_5] \n",
    "#Groupby po roku ze średnią\n",
    "top_5_grouped_heat = top_5_heat.groupby(by=[\"year\"], as_index = False)\n",
    "mean_top_5_heat = pd.DataFrame(top_5_grouped_heat[\"quantity\"].mean())"
   ]
  },
  {
   "cell_type": "code",
   "execution_count": null,
   "metadata": {},
   "outputs": [],
   "source": [
    "#widget heat\n",
    "country_list_heat = list(heat_sum[\"country_or_area\"].unique())\n",
    "choice_widget_country_heat = widgets.Dropdown(options=country_list_heat)\n",
    "values_heat = {\"Kraj\": choice_widget_country_heat.value}\n",
    "def widgets_handler_heat(country_choice_heat):\n",
    "    values_heat[\"Kraj\"] = country_choice_heat\n",
    "    \n",
    "def widget_heat():\n",
    "    widgets.interact(widgets_handler_heat, country_choice_heat=choice_widget_country_heat)"
   ]
  },
  {
   "cell_type": "code",
   "execution_count": null,
   "metadata": {},
   "outputs": [],
   "source": [
    "#wykres z sumą energii w totalu w danym kraju (wybranym z listy)\n",
    "def plot_total_heat():\n",
    "    x = heat_sum[heat_sum[\"country_or_area\"] == values_heat[\"Kraj\"]]\n",
    "    plt.figure(figsize=(8, 6))\n",
    "    plt.plot(\"year\", \"quantity\", data=x, label = \"total heat energy produced by {}\".format(values_heat[\"Kraj\"]))\n",
    "    plt.plot(\"year\", \"quantity\", data = mean_top_5_heat, label = \"total heat energy produced by top 5 countries (mean)\")\n",
    "    plt.legend()\n",
    "    plt.xlim(1990, 2015)\n",
    "    plt.title(label = \"heat energy produced in {} in comparison with mean of top 5\".format(values_heat[\"Kraj\"]))\n",
    "    plt.show()"
   ]
  },
  {
   "cell_type": "code",
   "execution_count": null,
   "metadata": {},
   "outputs": [],
   "source": [
    "widget_heat()\n",
    "plot_total_heat()"
   ]
  },
  {
   "cell_type": "code",
   "execution_count": null,
   "metadata": {},
   "outputs": [],
   "source": []
  }
 ],
 "metadata": {
  "kernelspec": {
   "display_name": "Python 3",
   "language": "python",
   "name": "python3"
  },
  "language_info": {
   "codemirror_mode": {
    "name": "ipython",
    "version": 3
   },
   "file_extension": ".py",
   "mimetype": "text/x-python",
   "name": "python",
   "nbconvert_exporter": "python",
   "pygments_lexer": "ipython3",
   "version": "3.7.6"
  }
 },
 "nbformat": 4,
 "nbformat_minor": 4
}
