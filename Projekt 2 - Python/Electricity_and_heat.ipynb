{
 "cells": [
  {
   "cell_type": "code",
   "execution_count": null,
   "metadata": {},
   "outputs": [],
   "source": [
    "import numpy as np\n",
    "import pandas as pd\n",
    "import matplotlib.pyplot as plt\n",
    "import seaborn as sns\n",
    "import ipywidgets as widgets\n",
    "%matplotlib inline"
   ]
  },
  {
   "cell_type": "code",
   "execution_count": null,
   "metadata": {},
   "outputs": [],
   "source": [
    "df = pd.read_csv(\"energy_statistics_UE_v3.csv\")\n",
    "df"
   ]
  },
  {
   "cell_type": "code",
   "execution_count": null,
   "metadata": {},
   "outputs": [],
   "source": [
    "eh = df[(df[\"wide_category\"] == \"Electricity_and_Heat\") \n",
    "        & (df[\"unit\"] == \"Kilowatt-hours, million\") \n",
    "        & (df[\"transaction\"] == \"Gross production\")]\n",
    "eh"
   ]
  },
  {
   "cell_type": "code",
   "execution_count": null,
   "metadata": {},
   "outputs": [],
   "source": [
    "#wszystkie kategorie/transakcje są w tych samych jednostkach\n",
    "print(eh[\"unit\"].unique())\n",
    "print(eh[\"transaction\"].unique())\n",
    "print(eh[\"category\"].unique())\n",
    "print(eh[\"country_or_area\"].unique())"
   ]
  },
  {
   "cell_type": "code",
   "execution_count": null,
   "metadata": {},
   "outputs": [],
   "source": [
    "grouped_eh = eh.groupby(by=[\"year\",\"country_or_area\"], as_index = False)\n",
    "eh_sum = pd.DataFrame(grouped_eh[\"quantity\"].sum())\n",
    "eh_sum"
   ]
  },
  {
   "cell_type": "code",
   "execution_count": null,
   "metadata": {},
   "outputs": [],
   "source": [
    "#top 5 pod względem \"quantity\" w 2014 (czyli ostatnim okresie w próbie)\n",
    "eh_sum[eh_sum[\"year\"] == 2014].nlargest(5, \"quantity\")"
   ]
  },
  {
   "cell_type": "code",
   "execution_count": null,
   "metadata": {},
   "outputs": [],
   "source": [
    "#DF dla średniej z top 5 \n",
    "#warunki\n",
    "var_1 = eh_sum[\"country_or_area\"] == \"Germany\"\n",
    "var_2 = eh_sum[\"country_or_area\"] == \"Spain\"\n",
    "var_3 = eh_sum[\"country_or_area\"] == \"United Kingdom\"\n",
    "var_4 = eh_sum[\"country_or_area\"] == \"France\"\n",
    "var_5 = eh_sum[\"country_or_area\"] == \"Italy\"\n",
    "#DF - wszystkie z top 5\n",
    "top_5_eh = eh_sum[var_1 | var_2 | var_3 | var_4 | var_5] \n",
    "#Groupby po roku ze średnią\n",
    "top_5_grouped_eh = top_5_eh.groupby(by=[\"year\"], as_index = False)\n",
    "mean_top_5_eh = pd.DataFrame(top_5_grouped_eh[\"quantity\"].mean())"
   ]
  },
  {
   "cell_type": "code",
   "execution_count": null,
   "metadata": {},
   "outputs": [],
   "source": [
    "#widget eh\n",
    "country_list_eh = list(eh_sum[\"country_or_area\"].unique())\n",
    "choice_widget_country_eh = widgets.Dropdown(options=country_list_eh)\n",
    "values_eh = {\"Kraj\": choice_widget_country_eh.value}\n",
    "def widgets_handler_eh(country_choice_eh):\n",
    "    values_eh[\"Kraj\"] = country_choice_eh\n",
    "    \n",
    "def widget_eh():\n",
    "    widgets.interact(widgets_handler_eh, country_choice_eh=choice_widget_country_eh)"
   ]
  },
  {
   "cell_type": "code",
   "execution_count": null,
   "metadata": {},
   "outputs": [],
   "source": [
    "#wykres z sumą energii w totalu w danym kraju (wybranym z listy)\n",
    "def plot_total_with_top5mean_eh():\n",
    "    x = eh_sum[eh_sum[\"country_or_area\"] == values_eh[\"Kraj\"]]\n",
    "    plt.figure(figsize=(8, 6))\n",
    "    plt.plot(\"year\", \"quantity\", data=x, label = \"total electricity produced by {}\".format(values_eh[\"Kraj\"]))\n",
    "    plt.plot(\"year\", \"quantity\", data = mean_top_5_eh, label = \"total electricity produced by top 5 countries (mean)\")\n",
    "    plt.legend()\n",
    "    plt.xlim(1990, 2015)\n",
    "    plt.title(label = \"electricity produced in {} in comparison with mean of top 5\".format(values_eh[\"Kraj\"]))\n",
    "    plt.show()"
   ]
  },
  {
   "cell_type": "code",
   "execution_count": null,
   "metadata": {},
   "outputs": [],
   "source": [
    "#wykres z sumą energii w totalu w danym kraju (wybranym z listy)\n",
    "def plot_total_eh():\n",
    "    x = eh_sum[eh_sum[\"country_or_area\"] == values_eh[\"Kraj\"]]\n",
    "    plt.figure(figsize=(8, 6))\n",
    "    plt.plot(\"year\", \"quantity\", data=x, label = \"total electricity produced by {}\".format(values_eh[\"Kraj\"]))\n",
    "    plt.xlim(1990, 2015)\n",
    "    plt.title(label = \"electricity produced in {}\".format(values_eh[\"Kraj\"]))\n",
    "    plt.show()"
   ]
  },
  {
   "cell_type": "code",
   "execution_count": null,
   "metadata": {},
   "outputs": [],
   "source": [
    "widget_eh()\n",
    "plot_total_with_top5mean_eh()\n",
    "plot_total_eh()"
   ]
  }
 ],
 "metadata": {
  "kernelspec": {
   "display_name": "Python 3.7.6 64-bit ('base': conda)",
   "language": "python",
   "name": "python37664bitbaseconda142b22abb85e4b4b91528d66a9136cb4"
  },
  "language_info": {
   "codemirror_mode": {
    "name": "ipython",
    "version": 3
   },
   "file_extension": ".py",
   "mimetype": "text/x-python",
   "name": "python",
   "nbconvert_exporter": "python",
   "pygments_lexer": "ipython3",
   "version": "3.7.6"
  }
 },
 "nbformat": 4,
 "nbformat_minor": 4
}
