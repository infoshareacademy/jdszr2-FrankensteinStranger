{
 "cells": [
  {
   "cell_type": "code",
   "execution_count": null,
   "metadata": {},
   "outputs": [],
   "source": [
    "import numpy as np\n",
    "import pandas as pd\n",
    "import matplotlib.pyplot as plt\n",
    "import seaborn as sns\n",
    "import ipywidgets as widgets\n",
    "%matplotlib inline"
   ]
  },
  {
   "cell_type": "markdown",
   "metadata": {},
   "source": [
    "### Notebook zawiera następujące wykresy:\n",
    "\n",
    "#### Widgety (wybór kraju, wybór wide_category):\n",
    "1. ilość energii wyprodukowanej przez dany kraj vs średnia produkcja energii top 5 krajów w UE\n",
    "2. ilościowo dana (wybrana) kategoria per dany kraj (nie jestem pewna czy jest potrzebny? może zostawić tylko udziałowe?)\n",
    "3. udział poszczególnych źródeł energii w danym kraju (green, nuclear, heat) - bar plot\n",
    "4. udział poszczególnych źródeł energii w danym kraju (green, nuclear, heat) - bar stack plot"
   ]
  },
  {
   "cell_type": "code",
   "execution_count": null,
   "metadata": {},
   "outputs": [],
   "source": [
    "data_frame = pd.read_csv(\"energy_gross_prod_UE.csv\")\n",
    "data_frame"
   ]
  },
  {
   "cell_type": "code",
   "execution_count": null,
   "metadata": {},
   "outputs": [],
   "source": [
    "#suma energii dla całej EU per rok w rozbiciu na kategorie\n",
    "cat_prod_sum = data_frame[[\"wide_category\", \"year\", \"quantity\",\"country_or_area\"]].groupby(by = [\"wide_category\", \"year\",\"country_or_area\"], as_index = False).sum()\n",
    "cat_prod_sum"
   ]
  },
  {
   "cell_type": "code",
   "execution_count": null,
   "metadata": {},
   "outputs": [],
   "source": [
    "#średnia produkcja energii per rok w UE (ilościowo)\n",
    "\n",
    "gross_prod_mean = data_frame[[\"year\", \"quantity\"]].groupby(by = [\"year\"], as_index = False).mean()\n",
    "gross_prod_mean"
   ]
  },
  {
   "cell_type": "code",
   "execution_count": null,
   "metadata": {},
   "outputs": [],
   "source": [
    "#całkowita produkcja per rok kraj (ilościowo)\n",
    "\n",
    "gross_prod = data_frame[[\"country_or_area\", \"year\", \"quantity\"]].groupby(by = [\"country_or_area\", \"year\"], as_index = False).sum()\n",
    "gross_prod"
   ]
  },
  {
   "cell_type": "code",
   "execution_count": null,
   "metadata": {},
   "outputs": [],
   "source": [
    "#top 5 pod względem \"quantity\" w 2014 (czyli ostatnim okresie w próbie)\n",
    "gross_prod[gross_prod[\"year\"] == 2014].nlargest(5, \"quantity\")"
   ]
  },
  {
   "cell_type": "code",
   "execution_count": null,
   "metadata": {},
   "outputs": [],
   "source": [
    "#DF dla średniej z top 5 \n",
    "#warunki\n",
    "var_1 = gross_prod[\"country_or_area\"] == \"Germany\"\n",
    "var_2 = gross_prod[\"country_or_area\"] == \"Spain\"\n",
    "var_3 = gross_prod[\"country_or_area\"] == \"United Kingdom\"\n",
    "var_4 = gross_prod[\"country_or_area\"] == \"France\"\n",
    "var_5 = gross_prod[\"country_or_area\"] == \"Italy\"\n",
    "#DF - wszystkie z top 5\n",
    "top_5_gross = gross_prod[var_1 | var_2 | var_3 | var_4 | var_5] \n",
    "#Groupby po roku ze średnią\n",
    "top_5_grouped_gross = top_5_gross.groupby(by=[\"year\"], as_index = False)\n",
    "mean_top_5_gross = pd.DataFrame(top_5_grouped_gross[\"quantity\"].mean())"
   ]
  },
  {
   "cell_type": "code",
   "execution_count": null,
   "metadata": {},
   "outputs": [],
   "source": [
    "#widget\n",
    "country_list = list(cat_prod_sum[\"country_or_area\"].unique())\n",
    "category_list = list(cat_prod_sum[\"wide_category\"].unique())\n",
    "choice_widget_country = widgets.Dropdown(options=country_list)\n",
    "choice_widget_category = widgets.Dropdown(options=category_list)\n",
    "values = {\"Kraj\": choice_widget_country.value, \"Kategoria\": choice_widget_category.value}\n",
    "def widgets_handler(country_choice, category_choice):\n",
    "    values[\"Kraj\"] = country_choice\n",
    "    values[\"Kategoria\"] = category_choice"
   ]
  },
  {
   "cell_type": "code",
   "execution_count": null,
   "metadata": {},
   "outputs": [],
   "source": [
    "#wykres z sumą energii w totalu w danym kraju (wybranym z listy)\n",
    "def plot_total():\n",
    "    x = gross_prod[gross_prod[\"country_or_area\"] == values[\"Kraj\"]]\n",
    "    plt.figure(figsize=(8, 6))\n",
    "    plt.plot(\"year\", \"quantity\", data=x, label = \"total energy produced by {}\".format(values[\"Kraj\"]))\n",
    "    plt.plot(\"year\", \"quantity\", data = mean_top_5_gross, label = \"total energy produced by top 5 countries (mean)\")\n",
    "    plt.legend()\n",
    "    plt.title(label = \"total energy produced in {} in comparison with mean of top 5 of UE\".format(values[\"Kraj\"]))\n",
    "    plt.show()"
   ]
  },
  {
   "cell_type": "code",
   "execution_count": null,
   "metadata": {},
   "outputs": [],
   "source": [
    "#wykres z sumą energii w danym kraju (wybranym z listy) i w wybranej kategorii (też z listy)\n",
    "def plot_category():\n",
    "    kraj = cat_prod_sum[\"country_or_area\"] == values[\"Kraj\"]\n",
    "    kategoria = cat_prod_sum[\"wide_category\"] == values[\"Kategoria\"]\n",
    "    y = cat_prod_sum[kraj & kategoria]\n",
    "    plt.figure(figsize=(8, 6))\n",
    "    plt.plot(\"year\", \"quantity\", data=y)\n",
    "    plt.title(label = \"{} in {}\".format(values[\"Kategoria\"], values[\"Kraj\"]))\n",
    "    plt.show()"
   ]
  },
  {
   "cell_type": "code",
   "execution_count": null,
   "metadata": {},
   "outputs": [],
   "source": [
    "#wykres z totalem produkcji energii w danym kraju oraz udziałem poszczególnych\n",
    "def plot_bar():\n",
    "    kraj = cat_prod_sum[\"country_or_area\"] == values[\"Kraj\"]\n",
    "    kategoria = cat_prod_sum[\"wide_category\"] == values[\"Kategoria\"]\n",
    "    z = cat_prod_sum[kraj]\n",
    "    z = z[[\"year\", \"wide_category\", \"quantity\"]]\n",
    "    z_pivot = z.pivot(index = \"year\", columns = \"wide_category\", values = \"quantity\")\n",
    "    z_pivot = z_pivot.fillna(0)\n",
    "    z_pivot.plot.bar(stacked = True)\n",
    "    plt.title(label = \"share of energy sources in {}\".format(values[\"Kraj\"]))\n",
    "    plt.legend(title=None)\n",
    "    plt.show()"
   ]
  },
  {
   "cell_type": "code",
   "execution_count": null,
   "metadata": {},
   "outputs": [],
   "source": [
    "#wykres z totalem produkcji energii w danym kraju oraz udziałem poszczególnych - stack 100%\n",
    "def plot_bar_100():\n",
    "    kraj = cat_prod_sum[\"country_or_area\"] == values[\"Kraj\"]\n",
    "    kategoria = cat_prod_sum[\"wide_category\"] == values[\"Kategoria\"]\n",
    "    z = cat_prod_sum[kraj]\n",
    "    z = z[[\"year\", \"wide_category\", \"quantity\"]]\n",
    "    z_pivot = z.pivot(index = \"year\", columns = \"wide_category\", values = \"quantity\")\n",
    "    z_pivot = z_pivot.fillna(0)\n",
    "    z_pivot.apply(lambda x: x*100/sum(x), axis=1).plot(kind=\"bar\", stacked=True)\n",
    "    plt.title(label = \"share of energy sources in {}\".format(values[\"Kraj\"]))\n",
    "    plt.legend(title=None)\n",
    "    plt.show()"
   ]
  },
  {
   "cell_type": "code",
   "execution_count": null,
   "metadata": {},
   "outputs": [],
   "source": [
    "widgets.interact(widgets_handler, country_choice=choice_widget_country, category_choice = choice_widget_category)\n",
    "plot_total()\n",
    "plot_category()\n",
    "plot_bar() #opcja 1\n",
    "plot_bar_100() #opcja 2"
   ]
  },
  {
   "cell_type": "code",
   "execution_count": null,
   "metadata": {},
   "outputs": [],
   "source": []
  }
 ],
 "metadata": {
  "kernelspec": {
   "display_name": "Python 3",
   "language": "python",
   "name": "python3"
  },
  "language_info": {
   "codemirror_mode": {
    "name": "ipython",
    "version": 3
   },
   "file_extension": ".py",
   "mimetype": "text/x-python",
   "name": "python",
   "nbconvert_exporter": "python",
   "pygments_lexer": "ipython3",
   "version": "3.7.6"
  }
 },
 "nbformat": 4,
 "nbformat_minor": 4
}
