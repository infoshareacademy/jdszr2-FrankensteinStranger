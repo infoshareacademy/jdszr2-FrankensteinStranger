{
 "cells": [
  {
   "cell_type": "code",
   "execution_count": null,
   "metadata": {},
   "outputs": [],
   "source": [
    "import numpy as np \n",
    "import pandas as pd"
   ]
  },
  {
   "cell_type": "code",
   "execution_count": null,
   "metadata": {},
   "outputs": [],
   "source": [
    "#widok całej tabeli\n",
    "data_frame = pd.read_csv(\"all_energy_statistics.csv\")\n",
    "data_frame"
   ]
  },
  {
   "cell_type": "code",
   "execution_count": null,
   "metadata": {},
   "outputs": [],
   "source": [
    "#podstawowe info\n",
    "data_frame.info()"
   ]
  },
  {
   "cell_type": "code",
   "execution_count": null,
   "metadata": {},
   "outputs": [],
   "source": [
    "#podstawowe statystyki\n",
    "#sprawdzic ujemne dane\n",
    "data_frame.describe()"
   ]
  },
  {
   "cell_type": "code",
   "execution_count": null,
   "metadata": {},
   "outputs": [],
   "source": [
    "#liczba unikalnych pozycji w kolumnach\n",
    "n_country = data_frame[\"country_or_area\"].nunique()\n",
    "n_transaction = data_frame[\"commodity_transaction\"].nunique()\n",
    "n_unit = data_frame[\"unit\"].nunique()\n",
    "n_category = data_frame[\"category\"].nunique()\n",
    "print(f\"Liczba krajów: {n_country}\")\n",
    "print(f\"Liczba transakcji: {n_transaction}\")\n",
    "print(f\"Liczba miar: {n_unit}\")\n",
    "print(f\"Liczba kategorii: {n_category}\")"
   ]
  },
  {
   "cell_type": "code",
   "execution_count": null,
   "metadata": {},
   "outputs": [],
   "source": [
    "data_frame[\"category\"].unique()"
   ]
  },
  {
   "cell_type": "code",
   "execution_count": null,
   "metadata": {},
   "outputs": [],
   "source": [
    "# druga wersja słownika\n",
    "def mapping(el):\n",
    "    wide_categories = {'additives_and_oxygenates': \"Oil\", 'animal_waste': \"Biofuels_and_Waste\", 'anthracite': \"Coal_Peat_and_Oil_Shale\",\n",
    "           'aviation_gasoline': \"Oil\", 'bagasse': \"Biofuels_and_Waste\", 'biodiesel': \"Biofuels_and_Waste\", 'biogases': \"Biofuels_and_Waste\",\n",
    "           'biogasoline': \"Biofuels_and_Waste\", 'bitumen': \"Oil\", 'black_liquor': \"Biofuels_and_Waste\", 'blast_furnace_gas': \"Natural_Gas_Manufactured_Gas_and_Recovered_Gas\",\n",
    "           'brown_coal_briquettes': \"Coal_Peat_and_Oil_Shale\", 'brown_coal': \"Coal_Peat_and_Oil_Shale\", 'charcoal': \"Biofuels_and_Waste\", 'coal_tar': \"Coal_Peat_and_Oil_Shale\",\n",
    "           'coke_oven_coke': \"Coal_Peat_and_Oil_Shale\", 'coking_coal': \"Coal_Peat_and_Oil_Shale\", 'conventional_crude_oil': \"Oil\",\n",
    "           'direct_use_of_geothermal_heat': \"Electricity_and_Heat\",\n",
    "           'direct_use_of_solar_thermal_heat': \"Electricity_and_Heat\",\n",
    "           'electricity_net_installed_capacity_of_electric_power_plants':\"Electricity_and_Heat\",\n",
    "           'ethane': \"Oil\", 'falling_water': \"Green\", 'fuel_oil': \"Oil\", 'fuelwood': \"Biofuels_and_Waste\", 'gas_coke': \"Coal_Peat_and_Oil_Shale\",\n",
    "           'gas_oil_diesel_oil': \"Oil\", 'gasoline_type_jet_fuel': \"Oil\", 'gasworks_gas': \"Natural_Gas_Manufactured_Gas_and_Recovered_Gas\",\n",
    "           'geothermal': \"Green\", 'hard_coal': \"Coal_Peat_and_Oil_Shale\", 'heat': \"Electricity_and_Heat\", 'hydro': \"Green\", 'industrial_waste': \"Biofuels_and_Waste\",\n",
    "           'kerosene_type_jet_fuel': \"Oil\", 'lignite': \"Coal_Peat_and_Oil_Shale\", 'liquified_petroleum_gas': \"Oil\",\n",
    "           'lubricants': \"Oil\", 'motor_gasoline': \"Oil\", 'municipal_wastes': \"Biofuels_and_Waste\", 'naphtha': \"Oil\",\n",
    "           'natural_gas_including_lng': \"Natural_Gas_Manufactured_Gas_and_Recovered_Gas\", 'natural_gas_liquids': \"Oil\",\n",
    "           'nuclear_electricity': \"Nuclear\", 'of_which_biodiesel': \"Oil\",\n",
    "           'of_which_biogasoline': \"Oil\", 'oil_shale_oil_sands': \"Coal_Peat_and_Oil_Shale\",\n",
    "           'other_bituminous_coal': \"Coal_Peat_and_Oil_Shale\", 'other_coal_products': \"Coal_Peat_and_Oil_Shale\",\n",
    "           'other_hydrocarbons': \"Oil\", 'other_kerosene': \"Oil\", 'other_liquid_biofuels': \"Biofuels_and_Waste\",\n",
    "           'other_oil_products_n_e_c': \"Oil\", 'other_recovered_gases': \"Natural_Gas_Manufactured_Gas_and_Recovered_Gas\",\n",
    "           'other_vegetal_material_and_residues': \"Biofuels_and_Waste\", 'paraffin_waxes': \"Oil\",\n",
    "           'patent_fuel': \"Coal_Peat_and_Oil_Shale\", 'peat': \"Coal_Peat_and_Oil_Shale\", 'peat_products': \"Coal_Peat_and_Oil_Shale\", 'petroleum_coke': \"Oil\",\n",
    "           'refinery_feedstocks': \"Oil\", 'refinery_gas': \"Oil\", 'solar_electricity': \"Green\",\n",
    "           'sub_bituminous_coal': \"Coal_Peat_and_Oil_Shale\", 'thermal_electricity': \"Green\",\n",
    "           'tide_wave_and_ocean_electricity': \"Green\", 'total_electricity': \"Electricity_and_Heat\",\n",
    "           'total_refinery_output': \"Oil\", 'uranium': \"Biofuels_and_Waste\",\n",
    "           'white_spirit_and_special_boiling_point_industrial_spirits': \"Oil\",\n",
    "           'wind_electricity': \"Green\"}\n",
    "    wide_cat = wide_categories.get(el)\n",
    "    return wide_cat"
   ]
  },
  {
   "cell_type": "code",
   "execution_count": null,
   "metadata": {},
   "outputs": [],
   "source": [
    "#lista krajów UE\n",
    "EU_countries = [\"Austria\", \"Belgium\", \"Czechia\", \"Finland\", \"Greece\", \"Hungary\", \"Italy\", \"Netherlands\", \"Romania\", \"Slovakia\", \"United Kingdom\", \"Bulgaria\", \"Croatia\", \"Lithuania\", \"Poland\", \"Portugal\", \"Spain\", \"Sweden\", \"Germany\", \"Denmark\", \"Ireland\", \"Latvia\",  \"Luxembourg\", \"Estonia\", \"Germany, Fed. R. (former)\", \"Malta\", \"Slovenia\", \"Cyprus\", \"France\"]"
   ]
  },
  {
   "cell_type": "code",
   "execution_count": null,
   "metadata": {},
   "outputs": [],
   "source": [
    "#wszystko dla krajów UE\n",
    "df_obj = data_frame.loc[data_frame[\"country_or_area\"].isin(EU_countries)]\n",
    "df_obj"
   ]
  },
  {
   "cell_type": "code",
   "execution_count": null,
   "metadata": {},
   "outputs": [],
   "source": [
    "#zamiana \"Germany, Fed. R. (former)\" na \"Germany\"\n",
    "df_obj[\"country_or_area\"].replace(to_replace = \"Germany, Fed. R. (former)\", value = \"Germany\", inplace = True)"
   ]
  },
  {
   "cell_type": "code",
   "execution_count": null,
   "metadata": {},
   "outputs": [],
   "source": [
    "#rozdzielenie kolumny commodity_transaction na commodity i transaction\n",
    "split_col = df_obj[\"commodity_transaction\"].str.split(\" - \", expand=True)\n",
    "df_obj[\"commodity\"] = split_col[0]\n",
    "df_obj[\"transaction\"] = split_col[1]"
   ]
  },
  {
   "cell_type": "code",
   "execution_count": null,
   "metadata": {},
   "outputs": [],
   "source": [
    "#usunięcie kolumny quantity_footnotes\n",
    "df_obj.drop([\"quantity_footnotes\"], axis = 1, inplace = True)"
   ]
  },
  {
   "cell_type": "code",
   "execution_count": null,
   "metadata": {},
   "outputs": [],
   "source": [
    "# dodanie kolumny z szerszą kategorią\n",
    "df_obj[\"wide_category\"] = df_obj[\"category\"].apply(mapping)"
   ]
  },
  {
   "cell_type": "code",
   "execution_count": null,
   "metadata": {},
   "outputs": [],
   "source": [
    "df_obj.to_csv(\"energy_statistics_UE_.csv\")"
   ]
  }
 ],
 "metadata": {
  "kernelspec": {
   "display_name": "Python 3",
   "language": "python",
   "name": "python3"
  },
  "language_info": {
   "codemirror_mode": {
    "name": "ipython",
    "version": 3
   },
   "file_extension": ".py",
   "mimetype": "text/x-python",
   "name": "python",
   "nbconvert_exporter": "python",
   "pygments_lexer": "ipython3",
   "version": "3.7.6"
  }
 },
 "nbformat": 4,
 "nbformat_minor": 2
}
