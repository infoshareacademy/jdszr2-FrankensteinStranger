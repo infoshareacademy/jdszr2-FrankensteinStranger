{
 "cells": [
  {
   "cell_type": "code",
   "execution_count": null,
   "metadata": {},
   "outputs": [],
   "source": [
    "import pycountry\n",
    "import plotly.express as px\n",
    "import pandas as pd\n",
    "df1 = pd.read_csv(\"energy_statistics_UE_v3.csv\")\n",
    "df1"
   ]
  },
  {
   "cell_type": "code",
   "execution_count": null,
   "metadata": {},
   "outputs": [],
   "source": [
    "list_countries = df1['country_or_area'].unique().tolist()\n",
    "list_countries"
   ]
  },
  {
   "cell_type": "code",
   "execution_count": null,
   "metadata": {},
   "outputs": [],
   "source": [
    "d_country_code = {}  # To hold the country names and their ISO\n",
    "for country in list_countries:\n",
    "    try:\n",
    "        country_data = pycountry.countries.search_fuzzy(country)\n",
    "        # country_data is a list of objects of class pycountry.db.Country\n",
    "        # The first item  ie at index 0 of list is best fit\n",
    "        # object of class Country have an alpha_3 attribute\n",
    "        country_code = country_data[0].alpha_3\n",
    "        d_country_code.update({country: country_code})\n",
    "    except:\n",
    "        print('could not add ISO 3 code for ->', country)\n",
    "        # If could not find country, make ISO code ' '\n",
    "        d_country_code.update({country: ' '})\n",
    "        \n",
    "d_country_code       "
   ]
  },
  {
   "cell_type": "code",
   "execution_count": null,
   "metadata": {},
   "outputs": [],
   "source": [
    "def mapping(el):\n",
    "    iso_code = d_country_code.get(el)\n",
    "    return iso_code"
   ]
  },
  {
   "cell_type": "code",
   "execution_count": null,
   "metadata": {},
   "outputs": [],
   "source": [
    "df1[\"ISO_code\"] = df1[\"country_or_area\"].apply(mapping)\n",
    "df1"
   ]
  },
  {
   "cell_type": "code",
   "execution_count": null,
   "metadata": {},
   "outputs": [],
   "source": [
    "green = df1[df1[\"wide_category\"] == \"Green\"]\n",
    "grouped_green = green.groupby(by=[\"year\",\"country_or_area\", \"ISO_code\"], as_index = False)\n",
    "gg = pd.DataFrame(grouped_green[\"quantity\"].sum())\n",
    "gg"
   ]
  },
  {
   "cell_type": "code",
   "execution_count": null,
   "metadata": {},
   "outputs": [],
   "source": [
    "fig = px.choropleth(data_frame = gg,\n",
    "                    scope= \"europe\",\n",
    "                    locations= \"ISO_code\",\n",
    "                    color= \"quantity\",  # value in column 'quantity' determines color\n",
    "                    hover_name= \"country_or_area\",\n",
    "                    color_continuous_scale= 'RdYlGn',#  color scale red, yellow green\n",
    "                    animation_frame= \"year\",\n",
    "                    title = \"Zielona energia wyprodukowana w krajach UE (MkWh)\")\n",
    "                    \n",
    "fig.show()"
   ]
  }
 ],
 "metadata": {
  "kernelspec": {
   "display_name": "Python 3",
   "language": "python",
   "name": "python3"
  },
  "language_info": {
   "codemirror_mode": {
    "name": "ipython",
    "version": 3
   },
   "file_extension": ".py",
   "mimetype": "text/x-python",
   "name": "python",
   "nbconvert_exporter": "python",
   "pygments_lexer": "ipython3",
   "version": "3.7.6"
  }
 },
 "nbformat": 4,
 "nbformat_minor": 2
}
