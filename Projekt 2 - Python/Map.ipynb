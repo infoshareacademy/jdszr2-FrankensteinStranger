{
 "cells": [
  {
   "cell_type": "code",
   "execution_count": 2,
   "metadata": {},
   "outputs": [
    {
     "output_type": "execute_result",
     "data": {
      "text/plain": [
       "        Unnamed: 0 country_or_area                commodity_transaction  year  \\\n",
       "0                0         Austria   Additives and Oxygenates - Exports  1996   \n",
       "1                1         Austria   Additives and Oxygenates - Exports  1995   \n",
       "2                2         Belgium   Additives and Oxygenates - Exports  2014   \n",
       "3                3         Belgium   Additives and Oxygenates - Exports  2013   \n",
       "4                4         Belgium   Additives and Oxygenates - Exports  2012   \n",
       "...            ...             ...                                  ...   ...   \n",
       "368023     1189431  United Kingdom  Electricity - total wind production  1994   \n",
       "368024     1189432  United Kingdom  Electricity - total wind production  1993   \n",
       "368025     1189433  United Kingdom  Electricity - total wind production  1992   \n",
       "368026     1189434  United Kingdom  Electricity - total wind production  1991   \n",
       "368027     1189435  United Kingdom  Electricity - total wind production  1990   \n",
       "\n",
       "                           unit  quantity                  category  \\\n",
       "0        Metric tons,  thousand       5.0  additives_and_oxygenates   \n",
       "1        Metric tons,  thousand      17.0  additives_and_oxygenates   \n",
       "2        Metric tons,  thousand       0.0  additives_and_oxygenates   \n",
       "3        Metric tons,  thousand       0.0  additives_and_oxygenates   \n",
       "4        Metric tons,  thousand      35.0  additives_and_oxygenates   \n",
       "...                         ...       ...                       ...   \n",
       "368023  Kilowatt-hours, million     342.0          wind_electricity   \n",
       "368024  Kilowatt-hours, million     218.0          wind_electricity   \n",
       "368025  Kilowatt-hours, million      40.0          wind_electricity   \n",
       "368026  Kilowatt-hours, million      11.0          wind_electricity   \n",
       "368027  Kilowatt-hours, million       9.0          wind_electricity   \n",
       "\n",
       "                       commodity            transaction wide_category  \n",
       "0       Additives and Oxygenates                Exports           Oil  \n",
       "1       Additives and Oxygenates                Exports           Oil  \n",
       "2       Additives and Oxygenates                Exports           Oil  \n",
       "3       Additives and Oxygenates                Exports           Oil  \n",
       "4       Additives and Oxygenates                Exports           Oil  \n",
       "...                          ...                    ...           ...  \n",
       "368023               Electricity  total wind production         Green  \n",
       "368024               Electricity  total wind production         Green  \n",
       "368025               Electricity  total wind production         Green  \n",
       "368026               Electricity  total wind production         Green  \n",
       "368027               Electricity  total wind production         Green  \n",
       "\n",
       "[368028 rows x 10 columns]"
      ],
      "text/html": "<div>\n<style scoped>\n    .dataframe tbody tr th:only-of-type {\n        vertical-align: middle;\n    }\n\n    .dataframe tbody tr th {\n        vertical-align: top;\n    }\n\n    .dataframe thead th {\n        text-align: right;\n    }\n</style>\n<table border=\"1\" class=\"dataframe\">\n  <thead>\n    <tr style=\"text-align: right;\">\n      <th></th>\n      <th>Unnamed: 0</th>\n      <th>country_or_area</th>\n      <th>commodity_transaction</th>\n      <th>year</th>\n      <th>unit</th>\n      <th>quantity</th>\n      <th>category</th>\n      <th>commodity</th>\n      <th>transaction</th>\n      <th>wide_category</th>\n    </tr>\n  </thead>\n  <tbody>\n    <tr>\n      <th>0</th>\n      <td>0</td>\n      <td>Austria</td>\n      <td>Additives and Oxygenates - Exports</td>\n      <td>1996</td>\n      <td>Metric tons,  thousand</td>\n      <td>5.0</td>\n      <td>additives_and_oxygenates</td>\n      <td>Additives and Oxygenates</td>\n      <td>Exports</td>\n      <td>Oil</td>\n    </tr>\n    <tr>\n      <th>1</th>\n      <td>1</td>\n      <td>Austria</td>\n      <td>Additives and Oxygenates - Exports</td>\n      <td>1995</td>\n      <td>Metric tons,  thousand</td>\n      <td>17.0</td>\n      <td>additives_and_oxygenates</td>\n      <td>Additives and Oxygenates</td>\n      <td>Exports</td>\n      <td>Oil</td>\n    </tr>\n    <tr>\n      <th>2</th>\n      <td>2</td>\n      <td>Belgium</td>\n      <td>Additives and Oxygenates - Exports</td>\n      <td>2014</td>\n      <td>Metric tons,  thousand</td>\n      <td>0.0</td>\n      <td>additives_and_oxygenates</td>\n      <td>Additives and Oxygenates</td>\n      <td>Exports</td>\n      <td>Oil</td>\n    </tr>\n    <tr>\n      <th>3</th>\n      <td>3</td>\n      <td>Belgium</td>\n      <td>Additives and Oxygenates - Exports</td>\n      <td>2013</td>\n      <td>Metric tons,  thousand</td>\n      <td>0.0</td>\n      <td>additives_and_oxygenates</td>\n      <td>Additives and Oxygenates</td>\n      <td>Exports</td>\n      <td>Oil</td>\n    </tr>\n    <tr>\n      <th>4</th>\n      <td>4</td>\n      <td>Belgium</td>\n      <td>Additives and Oxygenates - Exports</td>\n      <td>2012</td>\n      <td>Metric tons,  thousand</td>\n      <td>35.0</td>\n      <td>additives_and_oxygenates</td>\n      <td>Additives and Oxygenates</td>\n      <td>Exports</td>\n      <td>Oil</td>\n    </tr>\n    <tr>\n      <th>...</th>\n      <td>...</td>\n      <td>...</td>\n      <td>...</td>\n      <td>...</td>\n      <td>...</td>\n      <td>...</td>\n      <td>...</td>\n      <td>...</td>\n      <td>...</td>\n      <td>...</td>\n    </tr>\n    <tr>\n      <th>368023</th>\n      <td>1189431</td>\n      <td>United Kingdom</td>\n      <td>Electricity - total wind production</td>\n      <td>1994</td>\n      <td>Kilowatt-hours, million</td>\n      <td>342.0</td>\n      <td>wind_electricity</td>\n      <td>Electricity</td>\n      <td>total wind production</td>\n      <td>Green</td>\n    </tr>\n    <tr>\n      <th>368024</th>\n      <td>1189432</td>\n      <td>United Kingdom</td>\n      <td>Electricity - total wind production</td>\n      <td>1993</td>\n      <td>Kilowatt-hours, million</td>\n      <td>218.0</td>\n      <td>wind_electricity</td>\n      <td>Electricity</td>\n      <td>total wind production</td>\n      <td>Green</td>\n    </tr>\n    <tr>\n      <th>368025</th>\n      <td>1189433</td>\n      <td>United Kingdom</td>\n      <td>Electricity - total wind production</td>\n      <td>1992</td>\n      <td>Kilowatt-hours, million</td>\n      <td>40.0</td>\n      <td>wind_electricity</td>\n      <td>Electricity</td>\n      <td>total wind production</td>\n      <td>Green</td>\n    </tr>\n    <tr>\n      <th>368026</th>\n      <td>1189434</td>\n      <td>United Kingdom</td>\n      <td>Electricity - total wind production</td>\n      <td>1991</td>\n      <td>Kilowatt-hours, million</td>\n      <td>11.0</td>\n      <td>wind_electricity</td>\n      <td>Electricity</td>\n      <td>total wind production</td>\n      <td>Green</td>\n    </tr>\n    <tr>\n      <th>368027</th>\n      <td>1189435</td>\n      <td>United Kingdom</td>\n      <td>Electricity - total wind production</td>\n      <td>1990</td>\n      <td>Kilowatt-hours, million</td>\n      <td>9.0</td>\n      <td>wind_electricity</td>\n      <td>Electricity</td>\n      <td>total wind production</td>\n      <td>Green</td>\n    </tr>\n  </tbody>\n</table>\n<p>368028 rows × 10 columns</p>\n</div>"
     },
     "metadata": {},
     "execution_count": 2
    }
   ],
   "source": [
    "import pycountry\n",
    "import plotly.express as px\n",
    "import pandas as pd\n",
    "df1 = pd.read_csv(\"energy_statistics_UE_.csv\")\n",
    "df1"
   ]
  },
  {
   "cell_type": "code",
   "execution_count": 3,
   "metadata": {},
   "outputs": [
    {
     "output_type": "execute_result",
     "data": {
      "text/plain": [
       "['Austria',\n",
       " 'Belgium',\n",
       " 'Czechia',\n",
       " 'Finland',\n",
       " 'France',\n",
       " 'Greece',\n",
       " 'Hungary',\n",
       " 'Italy',\n",
       " 'Netherlands',\n",
       " 'Romania',\n",
       " 'Slovakia',\n",
       " 'United Kingdom',\n",
       " 'Bulgaria',\n",
       " 'Croatia',\n",
       " 'Lithuania',\n",
       " 'Poland',\n",
       " 'Portugal',\n",
       " 'Spain',\n",
       " 'Sweden',\n",
       " 'Germany',\n",
       " 'Denmark',\n",
       " 'Ireland',\n",
       " 'Latvia',\n",
       " 'Luxembourg',\n",
       " 'Estonia',\n",
       " 'Slovenia',\n",
       " 'Malta',\n",
       " 'Cyprus']"
      ]
     },
     "metadata": {},
     "execution_count": 3
    }
   ],
   "source": [
    "list_countries = df1['country_or_area'].unique().tolist()\n",
    "list_countries"
   ]
  },
  {
   "cell_type": "code",
   "execution_count": 5,
   "metadata": {},
   "outputs": [
    {
     "output_type": "execute_result",
     "data": {
      "text/plain": [
       "{'Austria': 'AUT',\n",
       " 'Belgium': 'BEL',\n",
       " 'Czechia': 'CZE',\n",
       " 'Finland': 'FIN',\n",
       " 'France': 'FRA',\n",
       " 'Greece': 'GRC',\n",
       " 'Hungary': 'HUN',\n",
       " 'Italy': 'ITA',\n",
       " 'Netherlands': 'NLD',\n",
       " 'Romania': 'ROU',\n",
       " 'Slovakia': 'SVK',\n",
       " 'United Kingdom': 'GBR',\n",
       " 'Bulgaria': 'BGR',\n",
       " 'Croatia': 'HRV',\n",
       " 'Lithuania': 'LTU',\n",
       " 'Poland': 'POL',\n",
       " 'Portugal': 'PRT',\n",
       " 'Spain': 'ESP',\n",
       " 'Sweden': 'SWE',\n",
       " 'Germany': 'DEU',\n",
       " 'Denmark': 'DNK',\n",
       " 'Ireland': 'IRL',\n",
       " 'Latvia': 'LVA',\n",
       " 'Luxembourg': 'LUX',\n",
       " 'Estonia': 'EST',\n",
       " 'Slovenia': 'SVN',\n",
       " 'Malta': 'MLT',\n",
       " 'Cyprus': 'CYP'}"
      ]
     },
     "metadata": {},
     "execution_count": 5
    }
   ],
   "source": [
    "d_country_code = {}  # To hold the country names and their ISO\n",
    "for country in list_countries:\n",
    "    try:\n",
    "        country_data = pycountry.countries.search_fuzzy(country)\n",
    "        # country_data is a list of objects of class pycountry.db.Country\n",
    "        # The first item  ie at index 0 of list is best fit\n",
    "        # object of class Country have an alpha_3 attribute\n",
    "        country_code = country_data[0].alpha_3\n",
    "        d_country_code.update({country: country_code})\n",
    "    except:\n",
    "        print('could not add ISO 3 code for ->', country)\n",
    "        # If could not find country, make ISO code ' '\n",
    "        d_country_code.update({country: ' '})\n",
    "        \n",
    "d_country_code       "
   ]
  },
  {
   "cell_type": "code",
   "execution_count": 6,
   "metadata": {},
   "outputs": [],
   "source": [
    "def mapping(el):\n",
    "    iso_code = d_country_code.get(el)\n",
    "    return iso_code"
   ]
  },
  {
   "cell_type": "code",
   "execution_count": 7,
   "metadata": {},
   "outputs": [
    {
     "output_type": "execute_result",
     "data": {
      "text/plain": [
       "        Unnamed: 0 country_or_area                commodity_transaction  year  \\\n",
       "0                0         Austria   Additives and Oxygenates - Exports  1996   \n",
       "1                1         Austria   Additives and Oxygenates - Exports  1995   \n",
       "2                2         Belgium   Additives and Oxygenates - Exports  2014   \n",
       "3                3         Belgium   Additives and Oxygenates - Exports  2013   \n",
       "4                4         Belgium   Additives and Oxygenates - Exports  2012   \n",
       "...            ...             ...                                  ...   ...   \n",
       "368023     1189431  United Kingdom  Electricity - total wind production  1994   \n",
       "368024     1189432  United Kingdom  Electricity - total wind production  1993   \n",
       "368025     1189433  United Kingdom  Electricity - total wind production  1992   \n",
       "368026     1189434  United Kingdom  Electricity - total wind production  1991   \n",
       "368027     1189435  United Kingdom  Electricity - total wind production  1990   \n",
       "\n",
       "                           unit  quantity                  category  \\\n",
       "0        Metric tons,  thousand       5.0  additives_and_oxygenates   \n",
       "1        Metric tons,  thousand      17.0  additives_and_oxygenates   \n",
       "2        Metric tons,  thousand       0.0  additives_and_oxygenates   \n",
       "3        Metric tons,  thousand       0.0  additives_and_oxygenates   \n",
       "4        Metric tons,  thousand      35.0  additives_and_oxygenates   \n",
       "...                         ...       ...                       ...   \n",
       "368023  Kilowatt-hours, million     342.0          wind_electricity   \n",
       "368024  Kilowatt-hours, million     218.0          wind_electricity   \n",
       "368025  Kilowatt-hours, million      40.0          wind_electricity   \n",
       "368026  Kilowatt-hours, million      11.0          wind_electricity   \n",
       "368027  Kilowatt-hours, million       9.0          wind_electricity   \n",
       "\n",
       "                       commodity            transaction wide_category ISO_code  \n",
       "0       Additives and Oxygenates                Exports           Oil      AUT  \n",
       "1       Additives and Oxygenates                Exports           Oil      AUT  \n",
       "2       Additives and Oxygenates                Exports           Oil      BEL  \n",
       "3       Additives and Oxygenates                Exports           Oil      BEL  \n",
       "4       Additives and Oxygenates                Exports           Oil      BEL  \n",
       "...                          ...                    ...           ...      ...  \n",
       "368023               Electricity  total wind production         Green      GBR  \n",
       "368024               Electricity  total wind production         Green      GBR  \n",
       "368025               Electricity  total wind production         Green      GBR  \n",
       "368026               Electricity  total wind production         Green      GBR  \n",
       "368027               Electricity  total wind production         Green      GBR  \n",
       "\n",
       "[368028 rows x 11 columns]"
      ],
      "text/html": "<div>\n<style scoped>\n    .dataframe tbody tr th:only-of-type {\n        vertical-align: middle;\n    }\n\n    .dataframe tbody tr th {\n        vertical-align: top;\n    }\n\n    .dataframe thead th {\n        text-align: right;\n    }\n</style>\n<table border=\"1\" class=\"dataframe\">\n  <thead>\n    <tr style=\"text-align: right;\">\n      <th></th>\n      <th>Unnamed: 0</th>\n      <th>country_or_area</th>\n      <th>commodity_transaction</th>\n      <th>year</th>\n      <th>unit</th>\n      <th>quantity</th>\n      <th>category</th>\n      <th>commodity</th>\n      <th>transaction</th>\n      <th>wide_category</th>\n      <th>ISO_code</th>\n    </tr>\n  </thead>\n  <tbody>\n    <tr>\n      <th>0</th>\n      <td>0</td>\n      <td>Austria</td>\n      <td>Additives and Oxygenates - Exports</td>\n      <td>1996</td>\n      <td>Metric tons,  thousand</td>\n      <td>5.0</td>\n      <td>additives_and_oxygenates</td>\n      <td>Additives and Oxygenates</td>\n      <td>Exports</td>\n      <td>Oil</td>\n      <td>AUT</td>\n    </tr>\n    <tr>\n      <th>1</th>\n      <td>1</td>\n      <td>Austria</td>\n      <td>Additives and Oxygenates - Exports</td>\n      <td>1995</td>\n      <td>Metric tons,  thousand</td>\n      <td>17.0</td>\n      <td>additives_and_oxygenates</td>\n      <td>Additives and Oxygenates</td>\n      <td>Exports</td>\n      <td>Oil</td>\n      <td>AUT</td>\n    </tr>\n    <tr>\n      <th>2</th>\n      <td>2</td>\n      <td>Belgium</td>\n      <td>Additives and Oxygenates - Exports</td>\n      <td>2014</td>\n      <td>Metric tons,  thousand</td>\n      <td>0.0</td>\n      <td>additives_and_oxygenates</td>\n      <td>Additives and Oxygenates</td>\n      <td>Exports</td>\n      <td>Oil</td>\n      <td>BEL</td>\n    </tr>\n    <tr>\n      <th>3</th>\n      <td>3</td>\n      <td>Belgium</td>\n      <td>Additives and Oxygenates - Exports</td>\n      <td>2013</td>\n      <td>Metric tons,  thousand</td>\n      <td>0.0</td>\n      <td>additives_and_oxygenates</td>\n      <td>Additives and Oxygenates</td>\n      <td>Exports</td>\n      <td>Oil</td>\n      <td>BEL</td>\n    </tr>\n    <tr>\n      <th>4</th>\n      <td>4</td>\n      <td>Belgium</td>\n      <td>Additives and Oxygenates - Exports</td>\n      <td>2012</td>\n      <td>Metric tons,  thousand</td>\n      <td>35.0</td>\n      <td>additives_and_oxygenates</td>\n      <td>Additives and Oxygenates</td>\n      <td>Exports</td>\n      <td>Oil</td>\n      <td>BEL</td>\n    </tr>\n    <tr>\n      <th>...</th>\n      <td>...</td>\n      <td>...</td>\n      <td>...</td>\n      <td>...</td>\n      <td>...</td>\n      <td>...</td>\n      <td>...</td>\n      <td>...</td>\n      <td>...</td>\n      <td>...</td>\n      <td>...</td>\n    </tr>\n    <tr>\n      <th>368023</th>\n      <td>1189431</td>\n      <td>United Kingdom</td>\n      <td>Electricity - total wind production</td>\n      <td>1994</td>\n      <td>Kilowatt-hours, million</td>\n      <td>342.0</td>\n      <td>wind_electricity</td>\n      <td>Electricity</td>\n      <td>total wind production</td>\n      <td>Green</td>\n      <td>GBR</td>\n    </tr>\n    <tr>\n      <th>368024</th>\n      <td>1189432</td>\n      <td>United Kingdom</td>\n      <td>Electricity - total wind production</td>\n      <td>1993</td>\n      <td>Kilowatt-hours, million</td>\n      <td>218.0</td>\n      <td>wind_electricity</td>\n      <td>Electricity</td>\n      <td>total wind production</td>\n      <td>Green</td>\n      <td>GBR</td>\n    </tr>\n    <tr>\n      <th>368025</th>\n      <td>1189433</td>\n      <td>United Kingdom</td>\n      <td>Electricity - total wind production</td>\n      <td>1992</td>\n      <td>Kilowatt-hours, million</td>\n      <td>40.0</td>\n      <td>wind_electricity</td>\n      <td>Electricity</td>\n      <td>total wind production</td>\n      <td>Green</td>\n      <td>GBR</td>\n    </tr>\n    <tr>\n      <th>368026</th>\n      <td>1189434</td>\n      <td>United Kingdom</td>\n      <td>Electricity - total wind production</td>\n      <td>1991</td>\n      <td>Kilowatt-hours, million</td>\n      <td>11.0</td>\n      <td>wind_electricity</td>\n      <td>Electricity</td>\n      <td>total wind production</td>\n      <td>Green</td>\n      <td>GBR</td>\n    </tr>\n    <tr>\n      <th>368027</th>\n      <td>1189435</td>\n      <td>United Kingdom</td>\n      <td>Electricity - total wind production</td>\n      <td>1990</td>\n      <td>Kilowatt-hours, million</td>\n      <td>9.0</td>\n      <td>wind_electricity</td>\n      <td>Electricity</td>\n      <td>total wind production</td>\n      <td>Green</td>\n      <td>GBR</td>\n    </tr>\n  </tbody>\n</table>\n<p>368028 rows × 11 columns</p>\n</div>"
     },
     "metadata": {},
     "execution_count": 7
    }
   ],
   "source": [
    "df1[\"ISO_code\"] = df1[\"country_or_area\"].apply(mapping)\n",
    "df1"
   ]
  },
  {
   "cell_type": "code",
   "execution_count": 8,
   "metadata": {},
   "outputs": [
    {
     "output_type": "execute_result",
     "data": {
      "text/plain": [
       "     year country_or_area ISO_code  quantity\n",
       "0    1990         Austria      AUT  200294.0\n",
       "1    1990         Belgium      BEL   28999.0\n",
       "2    1990        Bulgaria      BGR   53886.0\n",
       "3    1990          Cyprus      CYP    1974.0\n",
       "4    1990         Denmark      DNK   26102.0\n",
       "..    ...             ...      ...       ...\n",
       "681  2014        Slovakia      SVK   11784.0\n",
       "682  2014        Slovenia      SVN   11067.0\n",
       "683  2014           Spain      ESP  221445.0\n",
       "684  2014          Sweden      SWE   88785.0\n",
       "685  2014  United Kingdom      GBR  275177.0\n",
       "\n",
       "[686 rows x 4 columns]"
      ],
      "text/html": "<div>\n<style scoped>\n    .dataframe tbody tr th:only-of-type {\n        vertical-align: middle;\n    }\n\n    .dataframe tbody tr th {\n        vertical-align: top;\n    }\n\n    .dataframe thead th {\n        text-align: right;\n    }\n</style>\n<table border=\"1\" class=\"dataframe\">\n  <thead>\n    <tr style=\"text-align: right;\">\n      <th></th>\n      <th>year</th>\n      <th>country_or_area</th>\n      <th>ISO_code</th>\n      <th>quantity</th>\n    </tr>\n  </thead>\n  <tbody>\n    <tr>\n      <th>0</th>\n      <td>1990</td>\n      <td>Austria</td>\n      <td>AUT</td>\n      <td>200294.0</td>\n    </tr>\n    <tr>\n      <th>1</th>\n      <td>1990</td>\n      <td>Belgium</td>\n      <td>BEL</td>\n      <td>28999.0</td>\n    </tr>\n    <tr>\n      <th>2</th>\n      <td>1990</td>\n      <td>Bulgaria</td>\n      <td>BGR</td>\n      <td>53886.0</td>\n    </tr>\n    <tr>\n      <th>3</th>\n      <td>1990</td>\n      <td>Cyprus</td>\n      <td>CYP</td>\n      <td>1974.0</td>\n    </tr>\n    <tr>\n      <th>4</th>\n      <td>1990</td>\n      <td>Denmark</td>\n      <td>DNK</td>\n      <td>26102.0</td>\n    </tr>\n    <tr>\n      <th>...</th>\n      <td>...</td>\n      <td>...</td>\n      <td>...</td>\n      <td>...</td>\n    </tr>\n    <tr>\n      <th>681</th>\n      <td>2014</td>\n      <td>Slovakia</td>\n      <td>SVK</td>\n      <td>11784.0</td>\n    </tr>\n    <tr>\n      <th>682</th>\n      <td>2014</td>\n      <td>Slovenia</td>\n      <td>SVN</td>\n      <td>11067.0</td>\n    </tr>\n    <tr>\n      <th>683</th>\n      <td>2014</td>\n      <td>Spain</td>\n      <td>ESP</td>\n      <td>221445.0</td>\n    </tr>\n    <tr>\n      <th>684</th>\n      <td>2014</td>\n      <td>Sweden</td>\n      <td>SWE</td>\n      <td>88785.0</td>\n    </tr>\n    <tr>\n      <th>685</th>\n      <td>2014</td>\n      <td>United Kingdom</td>\n      <td>GBR</td>\n      <td>275177.0</td>\n    </tr>\n  </tbody>\n</table>\n<p>686 rows × 4 columns</p>\n</div>"
     },
     "metadata": {},
     "execution_count": 8
    }
   ],
   "source": [
    "green = df1[df1[\"wide_category\"] == \"Green\"]\n",
    "grouped_green = green.groupby(by=[\"year\",\"country_or_area\", \"ISO_code\"], as_index = False)\n",
    "gg = pd.DataFrame(grouped_green[\"quantity\"].sum())\n",
    "gg"
   ]
  },
  {
   "cell_type": "code",
   "execution_count": 12,
   "metadata": {},
   "outputs": [
    {
     "output_type": "display_data",
     "data": {
      "application/vnd.plotly.v1+json": {
       "config": {
        "plotlyServerURL": "https://plot.ly"
       },
       "data": [
        {
         "coloraxis": "coloraxis",
         "geo": "geo",
         "hovertemplate": "<b>%{hovertext}</b><br><br>year=1990<br>ISO_code=%{location}<br>quantity=%{z}<extra></extra>",
         "hovertext": [
          "Austria",
          "Belgium",
          "Bulgaria",
          "Cyprus",
          "Denmark",
          "Finland",
          "France",
          "Germany",
          "Greece",
          "Hungary",
          "Ireland",
          "Italy",
          "Luxembourg",
          "Malta",
          "Netherlands",
          "Poland",
          "Portugal",
          "Romania",
          "Spain",
          "Sweden",
          "United Kingdom"
         ],
         "locations": [
          "AUT",
          "BEL",
          "BGR",
          "CYP",
          "DNK",
          "FIN",
          "FRA",
          "DEU",
          "GRC",
          "HUN",
          "IRL",
          "ITA",
          "LUX",
          "MLT",
          "NLD",
          "POL",
          "PRT",
          "ROU",
          "ESP",
          "SWE",
          "GBR"
         ],
         "name": "",
         "type": "choropleth",
         "z": [
          200294,
          28999,
          53886,
          1974,
          26102,
          81161,
          372670,
          305443,
          119003,
          14705,
          14515,
          556600,
          1502,
          1279,
          68437,
          159311,
          60651,
          134310,
          235652,
          278329,
          261488
         ]
        }
       ],
       "frames": [
        {
         "data": [
          {
           "coloraxis": "coloraxis",
           "geo": "geo",
           "hovertemplate": "<b>%{hovertext}</b><br><br>year=1990<br>ISO_code=%{location}<br>quantity=%{z}<extra></extra>",
           "hovertext": [
            "Austria",
            "Belgium",
            "Bulgaria",
            "Cyprus",
            "Denmark",
            "Finland",
            "France",
            "Germany",
            "Greece",
            "Hungary",
            "Ireland",
            "Italy",
            "Luxembourg",
            "Malta",
            "Netherlands",
            "Poland",
            "Portugal",
            "Romania",
            "Spain",
            "Sweden",
            "United Kingdom"
           ],
           "locations": [
            "AUT",
            "BEL",
            "BGR",
            "CYP",
            "DNK",
            "FIN",
            "FRA",
            "DEU",
            "GRC",
            "HUN",
            "IRL",
            "ITA",
            "LUX",
            "MLT",
            "NLD",
            "POL",
            "PRT",
            "ROU",
            "ESP",
            "SWE",
            "GBR"
           ],
           "name": "",
           "type": "choropleth",
           "z": [
            200294,
            28999,
            53886,
            1974,
            26102,
            81161,
            372670,
            305443,
            119003,
            14705,
            14515,
            556600,
            1502,
            1279,
            68437,
            159311,
            60651,
            134310,
            235652,
            278329,
            261488
           ]
          }
         ],
         "name": "1990"
        },
        {
         "data": [
          {
           "coloraxis": "coloraxis",
           "geo": "geo",
           "hovertemplate": "<b>%{hovertext}</b><br><br>year=1991<br>ISO_code=%{location}<br>quantity=%{z}<extra></extra>",
           "hovertext": [
            "Austria",
            "Belgium",
            "Bulgaria",
            "Cyprus",
            "Denmark",
            "Finland",
            "France",
            "Germany",
            "Greece",
            "Hungary",
            "Ireland",
            "Italy",
            "Luxembourg",
            "Malta",
            "Netherlands",
            "Poland",
            "Portugal",
            "Romania",
            "Spain",
            "Sweden",
            "United Kingdom"
           ],
           "locations": [
            "AUT",
            "BEL",
            "BGR",
            "CYP",
            "DNK",
            "FIN",
            "FRA",
            "DEU",
            "GRC",
            "HUN",
            "IRL",
            "ITA",
            "LUX",
            "MLT",
            "NLD",
            "POL",
            "PRT",
            "ROU",
            "ESP",
            "SWE",
            "GBR"
           ],
           "name": "",
           "type": "choropleth",
           "z": [
            51483,
            29075,
            25733,
            2077,
            36545,
            38475,
            124215,
            392405,
            35815,
            16237,
            15148,
            221816,
            1415,
            1440,
            71091,
            134714,
            29872,
            58937,
            100219,
            70635,
            252332
           ]
          }
         ],
         "name": "1991"
        },
        {
         "data": [
          {
           "coloraxis": "coloraxis",
           "geo": "geo",
           "hovertemplate": "<b>%{hovertext}</b><br><br>year=1992<br>ISO_code=%{location}<br>quantity=%{z}<extra></extra>",
           "hovertext": [
            "Austria",
            "Belgium",
            "Bulgaria",
            "Croatia",
            "Cyprus",
            "Czechia",
            "Denmark",
            "Estonia",
            "Finland",
            "France",
            "Germany",
            "Greece",
            "Hungary",
            "Ireland",
            "Italy",
            "Latvia",
            "Lithuania",
            "Luxembourg",
            "Malta",
            "Netherlands",
            "Poland",
            "Portugal",
            "Romania",
            "Slovakia",
            "Slovenia",
            "Spain",
            "Sweden",
            "United Kingdom"
           ],
           "locations": [
            "AUT",
            "BEL",
            "BGR",
            "HRV",
            "CYP",
            "CZE",
            "DNK",
            "EST",
            "FIN",
            "FRA",
            "DEU",
            "GRC",
            "HUN",
            "IRL",
            "ITA",
            "LVA",
            "LTU",
            "LUX",
            "MLT",
            "NLD",
            "POL",
            "PRT",
            "ROU",
            "SVK",
            "SVN",
            "ESP",
            "SWE",
            "GBR"
           ],
           "name": "",
           "type": "choropleth",
           "z": [
            51190,
            28769,
            24058,
            8902,
            2430,
            47043,
            30738,
            11831,
            38465,
            125194,
            378666,
            37411,
            17721,
            16013,
            225941,
            3834,
            4280,
            1198,
            1464,
            73295,
            132750,
            30088,
            54195,
            12577,
            8373,
            102936,
            82921,
            244236
           ]
          }
         ],
         "name": "1992"
        },
        {
         "data": [
          {
           "coloraxis": "coloraxis",
           "geo": "geo",
           "hovertemplate": "<b>%{hovertext}</b><br><br>year=1993<br>ISO_code=%{location}<br>quantity=%{z}<extra></extra>",
           "hovertext": [
            "Austria",
            "Belgium",
            "Bulgaria",
            "Croatia",
            "Cyprus",
            "Czechia",
            "Denmark",
            "Estonia",
            "Finland",
            "France",
            "Germany",
            "Greece",
            "Hungary",
            "Ireland",
            "Italy",
            "Latvia",
            "Lithuania",
            "Luxembourg",
            "Malta",
            "Netherlands",
            "Poland",
            "Portugal",
            "Romania",
            "Slovakia",
            "Slovenia",
            "Spain",
            "Sweden",
            "United Kingdom"
           ],
           "locations": [
            "AUT",
            "BEL",
            "BGR",
            "HRV",
            "CYP",
            "CZE",
            "DNK",
            "EST",
            "FIN",
            "FRA",
            "DEU",
            "GRC",
            "HUN",
            "IRL",
            "ITA",
            "LVA",
            "LTU",
            "LUX",
            "MLT",
            "NLD",
            "POL",
            "PRT",
            "ROU",
            "SVK",
            "SVN",
            "ESP",
            "SWE",
            "GBR"
           ],
           "name": "",
           "type": "choropleth",
           "z": [
            202421,
            30657,
            50434,
            30864,
            26090,
            59354,
            34094,
            10373,
            87151,
            370519,
            493000,
            122396,
            26519,
            17796,
            562449,
            11124,
            6075,
            1192,
            1500,
            73603,
            156867,
            63356,
            125476,
            28487,
            20490,
            238738,
            284417,
            241249
           ]
          }
         ],
         "name": "1993"
        },
        {
         "data": [
          {
           "coloraxis": "coloraxis",
           "geo": "geo",
           "hovertemplate": "<b>%{hovertext}</b><br><br>year=1994<br>ISO_code=%{location}<br>quantity=%{z}<extra></extra>",
           "hovertext": [
            "Austria",
            "Belgium",
            "Bulgaria",
            "Croatia",
            "Cyprus",
            "Czechia",
            "Denmark",
            "Estonia",
            "Finland",
            "France",
            "Germany",
            "Greece",
            "Hungary",
            "Ireland",
            "Italy",
            "Latvia",
            "Lithuania",
            "Luxembourg",
            "Malta",
            "Netherlands",
            "Poland",
            "Portugal",
            "Romania",
            "Slovakia",
            "Slovenia",
            "Spain",
            "Sweden",
            "United Kingdom"
           ],
           "locations": [
            "AUT",
            "BEL",
            "BGR",
            "HRV",
            "CYP",
            "CZE",
            "DNK",
            "EST",
            "FIN",
            "FRA",
            "DEU",
            "GRC",
            "HUN",
            "IRL",
            "ITA",
            "LVA",
            "LTU",
            "LUX",
            "MLT",
            "NLD",
            "POL",
            "PRT",
            "ROU",
            "SVK",
            "SVN",
            "ESP",
            "SWE",
            "GBR"
           ],
           "name": "",
           "type": "choropleth",
           "z": [
            53132,
            31555,
            22798,
            8773,
            2685,
            45728,
            40578,
            9152,
            46204,
            116887,
            378457,
            40624,
            19466,
            17106,
            231509,
            4440,
            2315,
            1147,
            1542,
            75637,
            135347,
            31382,
            55136,
            13117,
            8286,
            106535,
            69897,
            238205
           ]
          }
         ],
         "name": "1994"
        },
        {
         "data": [
          {
           "coloraxis": "coloraxis",
           "geo": "geo",
           "hovertemplate": "<b>%{hovertext}</b><br><br>year=1995<br>ISO_code=%{location}<br>quantity=%{z}<extra></extra>",
           "hovertext": [
            "Austria",
            "Belgium",
            "Bulgaria",
            "Croatia",
            "Cyprus",
            "Czechia",
            "Denmark",
            "Estonia",
            "Finland",
            "France",
            "Germany",
            "Greece",
            "Hungary",
            "Ireland",
            "Italy",
            "Latvia",
            "Lithuania",
            "Luxembourg",
            "Malta",
            "Netherlands",
            "Poland",
            "Portugal",
            "Romania",
            "Slovakia",
            "Slovenia",
            "Spain",
            "Sweden",
            "United Kingdom"
           ],
           "locations": [
            "AUT",
            "BEL",
            "BGR",
            "HRV",
            "CYP",
            "CZE",
            "DNK",
            "EST",
            "FIN",
            "FRA",
            "DEU",
            "GRC",
            "HUN",
            "IRL",
            "ITA",
            "LVA",
            "LTU",
            "LUX",
            "MLT",
            "NLD",
            "POL",
            "PRT",
            "ROU",
            "SVK",
            "SVN",
            "ESP",
            "SWE",
            "GBR"
           ],
           "name": "",
           "type": "choropleth",
           "z": [
            206225,
            34802,
            24528,
            9276,
            25997,
            61717,
            36855,
            10093,
            90819,
            383043,
            504193,
            125552,
            27392,
            19259,
            581120,
            11179,
            2076,
            1230,
            1632,
            77553,
            139006,
            65415,
            129266,
            30868,
            20634,
            111630,
            278416,
            252577
           ]
          }
         ],
         "name": "1995"
        },
        {
         "data": [
          {
           "coloraxis": "coloraxis",
           "geo": "geo",
           "hovertemplate": "<b>%{hovertext}</b><br><br>year=1996<br>ISO_code=%{location}<br>quantity=%{z}<extra></extra>",
           "hovertext": [
            "Austria",
            "Belgium",
            "Bulgaria",
            "Croatia",
            "Cyprus",
            "Czechia",
            "Denmark",
            "Estonia",
            "Finland",
            "France",
            "Germany",
            "Greece",
            "Hungary",
            "Ireland",
            "Italy",
            "Latvia",
            "Lithuania",
            "Luxembourg",
            "Malta",
            "Netherlands",
            "Poland",
            "Portugal",
            "Romania",
            "Slovakia",
            "Slovenia",
            "Spain",
            "Sweden",
            "United Kingdom"
           ],
           "locations": [
            "AUT",
            "BEL",
            "BGR",
            "HRV",
            "CYP",
            "CZE",
            "DNK",
            "EST",
            "FIN",
            "FRA",
            "DEU",
            "GRC",
            "HUN",
            "IRL",
            "ITA",
            "LVA",
            "LTU",
            "LUX",
            "MLT",
            "NLD",
            "POL",
            "PRT",
            "ROU",
            "SVK",
            "SVN",
            "ESP",
            "SWE",
            "GBR"
           ],
           "name": "",
           "type": "choropleth",
           "z": [
            54880,
            32763,
            24634,
            11173,
            2609,
            51407,
            53548,
            9103,
            49897,
            116058,
            395356,
            42567,
            20910,
            19180,
            244088,
            3124,
            2847,
            1256,
            1657,
            81027,
            143173,
            34521,
            59964,
            14511,
            8410,
            118123,
            66388,
            256198
           ]
          }
         ],
         "name": "1996"
        },
        {
         "data": [
          {
           "coloraxis": "coloraxis",
           "geo": "geo",
           "hovertemplate": "<b>%{hovertext}</b><br><br>year=1997<br>ISO_code=%{location}<br>quantity=%{z}<extra></extra>",
           "hovertext": [
            "Austria",
            "Belgium",
            "Bulgaria",
            "Croatia",
            "Cyprus",
            "Czechia",
            "Denmark",
            "Estonia",
            "Finland",
            "France",
            "Germany",
            "Greece",
            "Hungary",
            "Ireland",
            "Italy",
            "Latvia",
            "Lithuania",
            "Luxembourg",
            "Malta",
            "Netherlands",
            "Poland",
            "Portugal",
            "Romania",
            "Slovakia",
            "Slovenia",
            "Spain",
            "Sweden",
            "United Kingdom"
           ],
           "locations": [
            "AUT",
            "BEL",
            "BGR",
            "HRV",
            "CYP",
            "CZE",
            "DNK",
            "EST",
            "FIN",
            "FRA",
            "DEU",
            "GRC",
            "HUN",
            "IRL",
            "ITA",
            "LVA",
            "LTU",
            "LUX",
            "MLT",
            "NLD",
            "POL",
            "PRT",
            "ROU",
            "SVK",
            "SVN",
            "ESP",
            "SWE",
            "GBR"
           ],
           "name": "",
           "type": "choropleth",
           "z": [
            131704,
            33425,
            50561,
            30248,
            26728,
            65104,
            44276,
            11218,
            94282,
            309287,
            501226,
            123506,
            28429,
            20953,
            590786,
            10501,
            7837,
            1260,
            1685,
            84879,
            165790,
            67208,
            121748,
            22274,
            21157,
            273098,
            255321,
            260520
           ]
          }
         ],
         "name": "1997"
        },
        {
         "data": [
          {
           "coloraxis": "coloraxis",
           "geo": "geo",
           "hovertemplate": "<b>%{hovertext}</b><br><br>year=1998<br>ISO_code=%{location}<br>quantity=%{z}<extra></extra>",
           "hovertext": [
            "Austria",
            "Belgium",
            "Bulgaria",
            "Croatia",
            "Cyprus",
            "Czechia",
            "Denmark",
            "Estonia",
            "Finland",
            "France",
            "Germany",
            "Greece",
            "Hungary",
            "Ireland",
            "Italy",
            "Latvia",
            "Lithuania",
            "Luxembourg",
            "Malta",
            "Netherlands",
            "Poland",
            "Portugal",
            "Romania",
            "Slovakia",
            "Slovenia",
            "Spain",
            "Sweden",
            "United Kingdom"
           ],
           "locations": [
            "AUT",
            "BEL",
            "BGR",
            "HRV",
            "CYP",
            "CZE",
            "DNK",
            "EST",
            "FIN",
            "FRA",
            "DEU",
            "GRC",
            "HUN",
            "IRL",
            "ITA",
            "LVA",
            "LTU",
            "LUX",
            "MLT",
            "NLD",
            "POL",
            "PRT",
            "ROU",
            "SVK",
            "SVN",
            "ESP",
            "SWE",
            "GBR"
           ],
           "name": "",
           "type": "choropleth",
           "z": [
            57001,
            37018,
            24812,
            11462,
            2991,
            51934,
            41075,
            8521,
            48314,
            123286,
            514749,
            46329,
            23241,
            21151,
            259073,
            5797,
            4077,
            1295,
            1721,
            87089,
            142789,
            38984,
            48189,
            14638,
            8686,
            136216,
            85248,
            263217
           ]
          }
         ],
         "name": "1998"
        },
        {
         "data": [
          {
           "coloraxis": "coloraxis",
           "geo": "geo",
           "hovertemplate": "<b>%{hovertext}</b><br><br>year=1999<br>ISO_code=%{location}<br>quantity=%{z}<extra></extra>",
           "hovertext": [
            "Austria",
            "Belgium",
            "Bulgaria",
            "Croatia",
            "Cyprus",
            "Czechia",
            "Denmark",
            "Estonia",
            "Finland",
            "France",
            "Germany",
            "Greece",
            "Hungary",
            "Ireland",
            "Italy",
            "Latvia",
            "Lithuania",
            "Luxembourg",
            "Malta",
            "Netherlands",
            "Poland",
            "Portugal",
            "Romania",
            "Slovakia",
            "Slovenia",
            "Spain",
            "Sweden",
            "United Kingdom"
           ],
           "locations": [
            "AUT",
            "BEL",
            "BGR",
            "HRV",
            "CYP",
            "CZE",
            "DNK",
            "EST",
            "FIN",
            "FRA",
            "DEU",
            "GRC",
            "HUN",
            "IRL",
            "ITA",
            "LVA",
            "LTU",
            "LUX",
            "MLT",
            "NLD",
            "POL",
            "PRT",
            "ROU",
            "SVK",
            "SVN",
            "ESP",
            "SWE",
            "GBR"
           ],
           "name": "",
           "type": "choropleth",
           "z": [
            60944,
            35497,
            22436,
            12979,
            3139,
            51337,
            38882,
            8268,
            46483,
            131562,
            506296,
            49632,
            23736,
            22009,
            265010,
            4110,
            3673,
            1022,
            1854,
            82710,
            142128,
            43287,
            45512,
            15290,
            8566,
            149599,
            81672,
            273019
           ]
          }
         ],
         "name": "1999"
        },
        {
         "data": [
          {
           "coloraxis": "coloraxis",
           "geo": "geo",
           "hovertemplate": "<b>%{hovertext}</b><br><br>year=2000<br>ISO_code=%{location}<br>quantity=%{z}<extra></extra>",
           "hovertext": [
            "Austria",
            "Belgium",
            "Bulgaria",
            "Croatia",
            "Cyprus",
            "Czechia",
            "Denmark",
            "Estonia",
            "Finland",
            "France",
            "Germany",
            "Greece",
            "Hungary",
            "Ireland",
            "Italy",
            "Latvia",
            "Lithuania",
            "Luxembourg",
            "Malta",
            "Netherlands",
            "Poland",
            "Portugal",
            "Romania",
            "Slovakia",
            "Slovenia",
            "Spain",
            "Sweden",
            "United Kingdom"
           ],
           "locations": [
            "AUT",
            "BEL",
            "BGR",
            "HRV",
            "CYP",
            "CZE",
            "DNK",
            "EST",
            "FIN",
            "FRA",
            "DEU",
            "GRC",
            "HUN",
            "IRL",
            "ITA",
            "LVA",
            "LTU",
            "LUX",
            "MLT",
            "NLD",
            "POL",
            "PRT",
            "ROU",
            "SVK",
            "SVN",
            "ESP",
            "SWE",
            "GBR"
           ],
           "name": "",
           "type": "choropleth",
           "z": [
            61238,
            35855,
            22747,
            11281,
            3370,
            59876,
            36014,
            8513,
            47298,
            124792,
            527947,
            133843,
            21011,
            23977,
            275855,
            4136,
            3005,
            1169,
            1917,
            85458,
            145184,
            43764,
            46478,
            14664,
            8863,
            162266,
            87950,
            292006
           ]
          }
         ],
         "name": "2000"
        },
        {
         "data": [
          {
           "coloraxis": "coloraxis",
           "geo": "geo",
           "hovertemplate": "<b>%{hovertext}</b><br><br>year=2001<br>ISO_code=%{location}<br>quantity=%{z}<extra></extra>",
           "hovertext": [
            "Austria",
            "Belgium",
            "Bulgaria",
            "Croatia",
            "Cyprus",
            "Czechia",
            "Denmark",
            "Estonia",
            "Finland",
            "France",
            "Germany",
            "Greece",
            "Hungary",
            "Ireland",
            "Italy",
            "Latvia",
            "Lithuania",
            "Luxembourg",
            "Malta",
            "Netherlands",
            "Poland",
            "Portugal",
            "Romania",
            "Slovakia",
            "Slovenia",
            "Spain",
            "Sweden",
            "United Kingdom"
           ],
           "locations": [
            "AUT",
            "BEL",
            "BGR",
            "HRV",
            "CYP",
            "CZE",
            "DNK",
            "EST",
            "FIN",
            "FRA",
            "DEU",
            "GRC",
            "HUN",
            "IRL",
            "ITA",
            "LVA",
            "LTU",
            "LUX",
            "MLT",
            "NLD",
            "POL",
            "PRT",
            "ROU",
            "SVK",
            "SVN",
            "ESP",
            "SWE",
            "GBR"
           ],
           "name": "",
           "type": "choropleth",
           "z": [
            62432,
            33472,
            24416,
            12809,
            3551,
            59898,
            37713,
            8483,
            51527,
            128454,
            536111,
            53704,
            22289,
            24956,
            278188,
            4279,
            3375,
            1620,
            1943,
            89445,
            145616,
            46509,
            48420,
            14923,
            9209,
            172335,
            89508,
            294696
           ]
          }
         ],
         "name": "2001"
        },
        {
         "data": [
          {
           "coloraxis": "coloraxis",
           "geo": "geo",
           "hovertemplate": "<b>%{hovertext}</b><br><br>year=2002<br>ISO_code=%{location}<br>quantity=%{z}<extra></extra>",
           "hovertext": [
            "Austria",
            "Belgium",
            "Bulgaria",
            "Croatia",
            "Cyprus",
            "Czechia",
            "Denmark",
            "Estonia",
            "Finland",
            "France",
            "Germany",
            "Greece",
            "Hungary",
            "Ireland",
            "Italy",
            "Latvia",
            "Lithuania",
            "Luxembourg",
            "Malta",
            "Netherlands",
            "Poland",
            "Portugal",
            "Romania",
            "Slovakia",
            "Slovenia",
            "Spain",
            "Sweden",
            "United Kingdom"
           ],
           "locations": [
            "AUT",
            "BEL",
            "BGR",
            "HRV",
            "CYP",
            "CZE",
            "DNK",
            "EST",
            "FIN",
            "FRA",
            "DEU",
            "GRC",
            "HUN",
            "IRL",
            "ITA",
            "LVA",
            "LTU",
            "LUX",
            "MLT",
            "NLD",
            "POL",
            "PRT",
            "ROU",
            "SVK",
            "SVN",
            "ESP",
            "SWE",
            "GBR"
           ],
           "name": "",
           "type": "choropleth",
           "z": [
            62481,
            34709,
            22457,
            12772,
            3785,
            57610,
            39274,
            8527,
            52411,
            122304,
            542862,
            54608,
            22204,
            25195,
            284506,
            3975,
            3579,
            3697,
            2052,
            91839,
            144126,
            46107,
            49222,
            14454,
            9070,
            181947,
            78624,
            299399
           ]
          }
         ],
         "name": "2002"
        },
        {
         "data": [
          {
           "coloraxis": "coloraxis",
           "geo": "geo",
           "hovertemplate": "<b>%{hovertext}</b><br><br>year=2003<br>ISO_code=%{location}<br>quantity=%{z}<extra></extra>",
           "hovertext": [
            "Austria",
            "Belgium",
            "Bulgaria",
            "Croatia",
            "Cyprus",
            "Czechia",
            "Denmark",
            "Estonia",
            "Finland",
            "France",
            "Germany",
            "Greece",
            "Hungary",
            "Ireland",
            "Italy",
            "Latvia",
            "Lithuania",
            "Luxembourg",
            "Malta",
            "Netherlands",
            "Poland",
            "Portugal",
            "Romania",
            "Slovakia",
            "Slovenia",
            "Spain",
            "Sweden",
            "United Kingdom"
           ],
           "locations": [
            "AUT",
            "BEL",
            "BGR",
            "HRV",
            "CYP",
            "CZE",
            "DNK",
            "EST",
            "FIN",
            "FRA",
            "DEU",
            "GRC",
            "HUN",
            "IRL",
            "ITA",
            "LVA",
            "LTU",
            "LUX",
            "MLT",
            "NLD",
            "POL",
            "PRT",
            "ROU",
            "SVK",
            "SVN",
            "ESP",
            "SWE",
            "GBR"
           ],
           "name": "",
           "type": "choropleth",
           "z": [
            60157,
            37251,
            25320,
            13252,
            4052,
            57355,
            46167,
            10159,
            61332,
            125769,
            441596,
            58471,
            23132,
            25219,
            292997,
            3975,
            4004,
            3621,
            2236,
            92579,
            151631,
            46852,
            50234,
            13294,
            8613,
            198852,
            68022,
            309521
           ]
          }
         ],
         "name": "2003"
        },
        {
         "data": [
          {
           "coloraxis": "coloraxis",
           "geo": "geo",
           "hovertemplate": "<b>%{hovertext}</b><br><br>year=2004<br>ISO_code=%{location}<br>quantity=%{z}<extra></extra>",
           "hovertext": [
            "Austria",
            "Belgium",
            "Bulgaria",
            "Croatia",
            "Cyprus",
            "Czechia",
            "Denmark",
            "Estonia",
            "Finland",
            "France",
            "Germany",
            "Greece",
            "Hungary",
            "Ireland",
            "Italy",
            "Latvia",
            "Lithuania",
            "Luxembourg",
            "Malta",
            "Netherlands",
            "Poland",
            "Portugal",
            "Romania",
            "Slovakia",
            "Slovenia",
            "Spain",
            "Sweden",
            "United Kingdom"
           ],
           "locations": [
            "AUT",
            "BEL",
            "BGR",
            "HRV",
            "CYP",
            "CZE",
            "DNK",
            "EST",
            "FIN",
            "FRA",
            "DEU",
            "GRC",
            "HUN",
            "IRL",
            "ITA",
            "LVA",
            "LTU",
            "LUX",
            "MLT",
            "NLD",
            "POL",
            "PRT",
            "ROU",
            "SVK",
            "SVN",
            "ESP",
            "SWE",
            "GBR"
           ],
           "name": "",
           "type": "choropleth",
           "z": [
            64136,
            38331,
            24806,
            13990,
            4201,
            58007,
            40425,
            10304,
            62856,
            125814,
            448302,
            59346,
            21793,
            25569,
            302397,
            4689,
            4172,
            4132,
            2216,
            97189,
            154159,
            45105,
            50951,
            13521,
            9812,
            213438,
            74242,
            313937
           ]
          }
         ],
         "name": "2004"
        },
        {
         "data": [
          {
           "coloraxis": "coloraxis",
           "geo": "geo",
           "hovertemplate": "<b>%{hovertext}</b><br><br>year=2005<br>ISO_code=%{location}<br>quantity=%{z}<extra></extra>",
           "hovertext": [
            "Austria",
            "Belgium",
            "Bulgaria",
            "Croatia",
            "Cyprus",
            "Czechia",
            "Denmark",
            "Estonia",
            "Finland",
            "France",
            "Germany",
            "Greece",
            "Hungary",
            "Ireland",
            "Italy",
            "Latvia",
            "Lithuania",
            "Luxembourg",
            "Malta",
            "Netherlands",
            "Poland",
            "Portugal",
            "Romania",
            "Slovakia",
            "Slovenia",
            "Spain",
            "Sweden",
            "United Kingdom"
           ],
           "locations": [
            "AUT",
            "BEL",
            "BGR",
            "HRV",
            "CYP",
            "CZE",
            "DNK",
            "EST",
            "FIN",
            "FRA",
            "DEU",
            "GRC",
            "HUN",
            "IRL",
            "ITA",
            "LVA",
            "LTU",
            "LUX",
            "MLT",
            "NLD",
            "POL",
            "PRT",
            "ROU",
            "SVK",
            "SVN",
            "ESP",
            "SWE",
            "GBR"
           ],
           "name": "",
           "type": "choropleth",
           "z": [
            216406,
            40164,
            52712,
            33162,
            63377,
            70849,
            36246,
            12205,
            95052,
            394535,
            576283,
            140020,
            31922,
            26970,
            642584,
            11905,
            9447,
            4332,
            2240,
            96662,
            179936,
            78575,
            123858,
            23708,
            28233,
            381544,
            216059,
            356737
           ]
          }
         ],
         "name": "2005"
        },
        {
         "data": [
          {
           "coloraxis": "coloraxis",
           "geo": "geo",
           "hovertemplate": "<b>%{hovertext}</b><br><br>year=2006<br>ISO_code=%{location}<br>quantity=%{z}<extra></extra>",
           "hovertext": [
            "Austria",
            "Belgium",
            "Bulgaria",
            "Croatia",
            "Cyprus",
            "Czechia",
            "Denmark",
            "Estonia",
            "Finland",
            "France",
            "Germany",
            "Greece",
            "Hungary",
            "Ireland",
            "Italy",
            "Latvia",
            "Lithuania",
            "Luxembourg",
            "Malta",
            "Netherlands",
            "Poland",
            "Portugal",
            "Romania",
            "Slovakia",
            "Slovenia",
            "Spain",
            "Sweden",
            "United Kingdom"
           ],
           "locations": [
            "AUT",
            "BEL",
            "BGR",
            "HRV",
            "CYP",
            "CZE",
            "DNK",
            "EST",
            "FIN",
            "FRA",
            "DEU",
            "GRC",
            "HUN",
            "IRL",
            "ITA",
            "LVA",
            "LTU",
            "LUX",
            "MLT",
            "NLD",
            "POL",
            "PRT",
            "ROU",
            "SVK",
            "SVN",
            "ESP",
            "SWE",
            "GBR"
           ],
           "name": "",
           "type": "choropleth",
           "z": [
            64482,
            38716,
            26350,
            13047,
            4652,
            58314,
            45611,
            9732,
            59142,
            124683,
            468443,
            60789,
            22398,
            27480,
            313095,
            4891,
            3831,
            4335,
            2261,
            95217,
            161742,
            49041,
            57065,
            13356,
            9567,
            238999,
            76442,
            321831
           ]
          }
         ],
         "name": "2006"
        },
        {
         "data": [
          {
           "coloraxis": "coloraxis",
           "geo": "geo",
           "hovertemplate": "<b>%{hovertext}</b><br><br>year=2007<br>ISO_code=%{location}<br>quantity=%{z}<extra></extra>",
           "hovertext": [
            "Austria",
            "Belgium",
            "Bulgaria",
            "Croatia",
            "Cyprus",
            "Czechia",
            "Denmark",
            "Estonia",
            "Finland",
            "France",
            "Germany",
            "Greece",
            "Hungary",
            "Ireland",
            "Italy",
            "Latvia",
            "Lithuania",
            "Luxembourg",
            "Malta",
            "Netherlands",
            "Poland",
            "Portugal",
            "Romania",
            "Slovakia",
            "Slovenia",
            "Spain",
            "Sweden",
            "United Kingdom"
           ],
           "locations": [
            "AUT",
            "BEL",
            "BGR",
            "HRV",
            "CYP",
            "CZE",
            "DNK",
            "EST",
            "FIN",
            "FRA",
            "DEU",
            "GRC",
            "HUN",
            "IRL",
            "ITA",
            "LVA",
            "LTU",
            "LUX",
            "MLT",
            "NLD",
            "POL",
            "PRT",
            "ROU",
            "SVK",
            "SVN",
            "ESP",
            "SWE",
            "GBR"
           ],
           "name": "",
           "type": "choropleth",
           "z": [
            64739,
            40347,
            28654,
            12709,
            4871,
            62025,
            39316,
            12190,
            57559,
            129696,
            497658,
            63496,
            25283,
            28196,
            312867,
            4771,
            3943,
            4003,
            2296,
            100790,
            159348,
            47253,
            53964,
            12672,
            9348,
            249625,
            81957,
            333802
           ]
          }
         ],
         "name": "2007"
        },
        {
         "data": [
          {
           "coloraxis": "coloraxis",
           "geo": "geo",
           "hovertemplate": "<b>%{hovertext}</b><br><br>year=2008<br>ISO_code=%{location}<br>quantity=%{z}<extra></extra>",
           "hovertext": [
            "Austria",
            "Belgium",
            "Bulgaria",
            "Croatia",
            "Cyprus",
            "Czechia",
            "Denmark",
            "Estonia",
            "Finland",
            "France",
            "Germany",
            "Greece",
            "Hungary",
            "Ireland",
            "Italy",
            "Latvia",
            "Lithuania",
            "Luxembourg",
            "Malta",
            "Netherlands",
            "Poland",
            "Portugal",
            "Romania",
            "Slovakia",
            "Slovenia",
            "Spain",
            "Sweden",
            "United Kingdom"
           ],
           "locations": [
            "AUT",
            "BEL",
            "BGR",
            "HRV",
            "CYP",
            "CZE",
            "DNK",
            "EST",
            "FIN",
            "FRA",
            "DEU",
            "GRC",
            "HUN",
            "IRL",
            "ITA",
            "LVA",
            "LTU",
            "LUX",
            "MLT",
            "NLD",
            "POL",
            "PRT",
            "ROU",
            "SVK",
            "SVN",
            "ESP",
            "SWE",
            "GBR"
           ],
           "name": "",
           "type": "choropleth",
           "z": [
            216859,
            40116,
            56272,
            32891,
            64079,
            69966,
            36616,
            12581,
            85030,
            404069,
            609701,
            143749,
            35207,
            31239,
            508215,
            12274,
            9781,
            3559,
            2312,
            114235,
            180305,
            77969,
            123730,
            22220,
            10126,
            416478,
            286147,
            371408
           ]
          }
         ],
         "name": "2008"
        },
        {
         "data": [
          {
           "coloraxis": "coloraxis",
           "geo": "geo",
           "hovertemplate": "<b>%{hovertext}</b><br><br>year=2009<br>ISO_code=%{location}<br>quantity=%{z}<extra></extra>",
           "hovertext": [
            "Austria",
            "Belgium",
            "Bulgaria",
            "Croatia",
            "Cyprus",
            "Czechia",
            "Denmark",
            "Estonia",
            "Finland",
            "France",
            "Germany",
            "Greece",
            "Hungary",
            "Ireland",
            "Italy",
            "Latvia",
            "Lithuania",
            "Luxembourg",
            "Malta",
            "Netherlands",
            "Poland",
            "Portugal",
            "Romania",
            "Slovakia",
            "Slovenia",
            "Spain",
            "Sweden",
            "United Kingdom"
           ],
           "locations": [
            "AUT",
            "BEL",
            "BGR",
            "HRV",
            "CYP",
            "CZE",
            "DNK",
            "EST",
            "FIN",
            "FRA",
            "DEU",
            "GRC",
            "HUN",
            "IRL",
            "ITA",
            "LVA",
            "LTU",
            "LUX",
            "MLT",
            "NLD",
            "POL",
            "PRT",
            "ROU",
            "SVK",
            "SVN",
            "ESP",
            "SWE",
            "GBR"
           ],
           "name": "",
           "type": "choropleth",
           "z": [
            69071,
            43918,
            27693,
            13455,
            5215,
            55042,
            36383,
            8779,
            48233,
            125899,
            458572,
            61365,
            20482,
            28313,
            292037,
            5569,
            4235,
            3879,
            2168,
            109313,
            151720,
            50207,
            46262,
            12035,
            10664,
            241518,
            84556,
            307622
           ]
          }
         ],
         "name": "2009"
        },
        {
         "data": [
          {
           "coloraxis": "coloraxis",
           "geo": "geo",
           "hovertemplate": "<b>%{hovertext}</b><br><br>year=2010<br>ISO_code=%{location}<br>quantity=%{z}<extra></extra>",
           "hovertext": [
            "Austria",
            "Belgium",
            "Bulgaria",
            "Croatia",
            "Cyprus",
            "Czechia",
            "Denmark",
            "Estonia",
            "Finland",
            "France",
            "Germany",
            "Greece",
            "Hungary",
            "Ireland",
            "Italy",
            "Latvia",
            "Lithuania",
            "Luxembourg",
            "Malta",
            "Netherlands",
            "Poland",
            "Portugal",
            "Romania",
            "Slovakia",
            "Slovenia",
            "Spain",
            "Sweden",
            "United Kingdom"
           ],
           "locations": [
            "AUT",
            "BEL",
            "BGR",
            "HRV",
            "CYP",
            "CZE",
            "DNK",
            "EST",
            "FIN",
            "FRA",
            "DEU",
            "GRC",
            "HUN",
            "IRL",
            "ITA",
            "LVA",
            "LTU",
            "LUX",
            "MLT",
            "NLD",
            "POL",
            "PRT",
            "ROU",
            "SVK",
            "SVN",
            "ESP",
            "SWE",
            "GBR"
           ],
           "name": "",
           "type": "choropleth",
           "z": [
            71110,
            46990,
            31390,
            14902,
            5322,
            57912,
            38862,
            12964,
            57571,
            140576,
            490110,
            57392,
            21610,
            28685,
            301286,
            6627,
            5499,
            4590,
            2116,
            115147,
            157574,
            54087,
            49356,
            13244,
            10783,
            239378,
            90735,
            319631
           ]
          }
         ],
         "name": "2010"
        },
        {
         "data": [
          {
           "coloraxis": "coloraxis",
           "geo": "geo",
           "hovertemplate": "<b>%{hovertext}</b><br><br>year=2011<br>ISO_code=%{location}<br>quantity=%{z}<extra></extra>",
           "hovertext": [
            "Austria",
            "Belgium",
            "Bulgaria",
            "Croatia",
            "Cyprus",
            "Czechia",
            "Denmark",
            "Estonia",
            "Finland",
            "France",
            "Germany",
            "Greece",
            "Hungary",
            "Ireland",
            "Italy",
            "Latvia",
            "Lithuania",
            "Luxembourg",
            "Malta",
            "Netherlands",
            "Poland",
            "Portugal",
            "Romania",
            "Slovakia",
            "Slovenia",
            "Spain",
            "Sweden",
            "United Kingdom"
           ],
           "locations": [
            "AUT",
            "BEL",
            "BGR",
            "HRV",
            "CYP",
            "CZE",
            "DNK",
            "EST",
            "FIN",
            "FRA",
            "DEU",
            "GRC",
            "HUN",
            "IRL",
            "ITA",
            "LVA",
            "LTU",
            "LUX",
            "MLT",
            "NLD",
            "POL",
            "PRT",
            "ROU",
            "SVK",
            "SVN",
            "ESP",
            "SWE",
            "GBR"
           ],
           "name": "",
           "type": "choropleth",
           "z": [
            65802,
            41873,
            34460,
            11373,
            4929,
            59278,
            35229,
            12893,
            50019,
            119065,
            502785,
            59436,
            20334,
            27474,
            301774,
            6095,
            4565,
            3718,
            2187,
            109674,
            163443,
            52459,
            50470,
            13167,
            9844,
            235959,
            89901,
            298443
           ]
          }
         ],
         "name": "2011"
        },
        {
         "data": [
          {
           "coloraxis": "coloraxis",
           "geo": "geo",
           "hovertemplate": "<b>%{hovertext}</b><br><br>year=2012<br>ISO_code=%{location}<br>quantity=%{z}<extra></extra>",
           "hovertext": [
            "Austria",
            "Belgium",
            "Bulgaria",
            "Croatia",
            "Cyprus",
            "Czechia",
            "Denmark",
            "Estonia",
            "Finland",
            "France",
            "Germany",
            "Greece",
            "Hungary",
            "Ireland",
            "Italy",
            "Latvia",
            "Lithuania",
            "Luxembourg",
            "Malta",
            "Netherlands",
            "Poland",
            "Portugal",
            "Romania",
            "Slovakia",
            "Slovenia",
            "Spain",
            "Sweden",
            "United Kingdom"
           ],
           "locations": [
            "AUT",
            "BEL",
            "BGR",
            "HRV",
            "CYP",
            "CZE",
            "DNK",
            "EST",
            "FIN",
            "FRA",
            "DEU",
            "GRC",
            "HUN",
            "IRL",
            "ITA",
            "LVA",
            "LTU",
            "LUX",
            "MLT",
            "NLD",
            "POL",
            "PRT",
            "ROU",
            "SVK",
            "SVN",
            "ESP",
            "SWE",
            "GBR"
           ],
           "name": "",
           "type": "choropleth",
           "z": [
            72606,
            42401,
            31529,
            10755,
            4717,
            57249,
            30701,
            11967,
            47110,
            139704,
            528348,
            60959,
            18842,
            27600,
            298526,
            6167,
            4816,
            3818,
            2307,
            99236,
            162058,
            46609,
            47579,
            13100,
            10208,
            235914,
            102525,
            293177
           ]
          }
         ],
         "name": "2012"
        },
        {
         "data": [
          {
           "coloraxis": "coloraxis",
           "geo": "geo",
           "hovertemplate": "<b>%{hovertext}</b><br><br>year=2013<br>ISO_code=%{location}<br>quantity=%{z}<extra></extra>",
           "hovertext": [
            "Austria",
            "Belgium",
            "Bulgaria",
            "Croatia",
            "Cyprus",
            "Czechia",
            "Denmark",
            "Estonia",
            "Finland",
            "France",
            "Germany",
            "Greece",
            "Hungary",
            "Ireland",
            "Italy",
            "Latvia",
            "Lithuania",
            "Luxembourg",
            "Malta",
            "Netherlands",
            "Poland",
            "Portugal",
            "Romania",
            "Slovakia",
            "Slovenia",
            "Spain",
            "Sweden",
            "United Kingdom"
           ],
           "locations": [
            "AUT",
            "BEL",
            "BGR",
            "HRV",
            "CYP",
            "CZE",
            "DNK",
            "EST",
            "FIN",
            "FRA",
            "DEU",
            "GRC",
            "HUN",
            "IRL",
            "ITA",
            "LVA",
            "LTU",
            "LUX",
            "MLT",
            "NLD",
            "POL",
            "PRT",
            "ROU",
            "SVK",
            "SVN",
            "ESP",
            "SWE",
            "GBR"
           ],
           "name": "",
           "type": "choropleth",
           "z": [
            68263,
            40521,
            29597,
            14052,
            4290,
            56320,
            34760,
            13275,
            47368,
            147927,
            539674,
            57152,
            14889,
            26142,
            289054,
            6209,
            4525,
            2888,
            2251,
            98722,
            164446,
            51668,
            47269,
            13043,
            10803,
            228906,
            86709,
            288561
           ]
          }
         ],
         "name": "2013"
        },
        {
         "data": [
          {
           "coloraxis": "coloraxis",
           "geo": "geo",
           "hovertemplate": "<b>%{hovertext}</b><br><br>year=2014<br>ISO_code=%{location}<br>quantity=%{z}<extra></extra>",
           "hovertext": [
            "Austria",
            "Belgium",
            "Bulgaria",
            "Croatia",
            "Cyprus",
            "Czechia",
            "Denmark",
            "Estonia",
            "Finland",
            "France",
            "Germany",
            "Greece",
            "Hungary",
            "Ireland",
            "Italy",
            "Latvia",
            "Lithuania",
            "Luxembourg",
            "Malta",
            "Netherlands",
            "Poland",
            "Portugal",
            "Romania",
            "Slovakia",
            "Slovenia",
            "Spain",
            "Sweden",
            "United Kingdom"
           ],
           "locations": [
            "AUT",
            "BEL",
            "BGR",
            "HRV",
            "CYP",
            "CZE",
            "DNK",
            "EST",
            "FIN",
            "FRA",
            "DEU",
            "GRC",
            "HUN",
            "IRL",
            "ITA",
            "LVA",
            "LTU",
            "LUX",
            "MLT",
            "NLD",
            "POL",
            "PRT",
            "ROU",
            "SVK",
            "SVN",
            "ESP",
            "SWE",
            "GBR"
           ],
           "name": "",
           "type": "choropleth",
           "z": [
            65408,
            38586,
            31604,
            13554,
            4350,
            55699,
            32183,
            12446,
            44223,
            125749,
            528643,
            50474,
            13667,
            26314,
            279166,
            5141,
            4154,
            2967,
            2245,
            99182,
            158917,
            52795,
            54000,
            11784,
            11067,
            221445,
            88785,
            275177
           ]
          }
         ],
         "name": "2014"
        }
       ],
       "layout": {
        "coloraxis": {
         "colorbar": {
          "title": {
           "text": "quantity"
          }
         },
         "colorscale": [
          [
           0,
           "rgb(165,0,38)"
          ],
          [
           0.1,
           "rgb(215,48,39)"
          ],
          [
           0.2,
           "rgb(244,109,67)"
          ],
          [
           0.3,
           "rgb(253,174,97)"
          ],
          [
           0.4,
           "rgb(254,224,139)"
          ],
          [
           0.5,
           "rgb(255,255,191)"
          ],
          [
           0.6,
           "rgb(217,239,139)"
          ],
          [
           0.7,
           "rgb(166,217,106)"
          ],
          [
           0.8,
           "rgb(102,189,99)"
          ],
          [
           0.9,
           "rgb(26,152,80)"
          ],
          [
           1,
           "rgb(0,104,55)"
          ]
         ]
        },
        "geo": {
         "center": {},
         "domain": {
          "x": [
           0,
           1
          ],
          "y": [
           0,
           1
          ]
         },
         "scope": "europe"
        },
        "legend": {
         "tracegroupgap": 0
        },
        "sliders": [
         {
          "active": 0,
          "currentvalue": {
           "prefix": "year="
          },
          "len": 0.9,
          "pad": {
           "b": 10,
           "t": 60
          },
          "steps": [
           {
            "args": [
             [
              "1990"
             ],
             {
              "frame": {
               "duration": 0,
               "redraw": true
              },
              "fromcurrent": true,
              "mode": "immediate",
              "transition": {
               "duration": 0,
               "easing": "linear"
              }
             }
            ],
            "label": "1990",
            "method": "animate"
           },
           {
            "args": [
             [
              "1991"
             ],
             {
              "frame": {
               "duration": 0,
               "redraw": true
              },
              "fromcurrent": true,
              "mode": "immediate",
              "transition": {
               "duration": 0,
               "easing": "linear"
              }
             }
            ],
            "label": "1991",
            "method": "animate"
           },
           {
            "args": [
             [
              "1992"
             ],
             {
              "frame": {
               "duration": 0,
               "redraw": true
              },
              "fromcurrent": true,
              "mode": "immediate",
              "transition": {
               "duration": 0,
               "easing": "linear"
              }
             }
            ],
            "label": "1992",
            "method": "animate"
           },
           {
            "args": [
             [
              "1993"
             ],
             {
              "frame": {
               "duration": 0,
               "redraw": true
              },
              "fromcurrent": true,
              "mode": "immediate",
              "transition": {
               "duration": 0,
               "easing": "linear"
              }
             }
            ],
            "label": "1993",
            "method": "animate"
           },
           {
            "args": [
             [
              "1994"
             ],
             {
              "frame": {
               "duration": 0,
               "redraw": true
              },
              "fromcurrent": true,
              "mode": "immediate",
              "transition": {
               "duration": 0,
               "easing": "linear"
              }
             }
            ],
            "label": "1994",
            "method": "animate"
           },
           {
            "args": [
             [
              "1995"
             ],
             {
              "frame": {
               "duration": 0,
               "redraw": true
              },
              "fromcurrent": true,
              "mode": "immediate",
              "transition": {
               "duration": 0,
               "easing": "linear"
              }
             }
            ],
            "label": "1995",
            "method": "animate"
           },
           {
            "args": [
             [
              "1996"
             ],
             {
              "frame": {
               "duration": 0,
               "redraw": true
              },
              "fromcurrent": true,
              "mode": "immediate",
              "transition": {
               "duration": 0,
               "easing": "linear"
              }
             }
            ],
            "label": "1996",
            "method": "animate"
           },
           {
            "args": [
             [
              "1997"
             ],
             {
              "frame": {
               "duration": 0,
               "redraw": true
              },
              "fromcurrent": true,
              "mode": "immediate",
              "transition": {
               "duration": 0,
               "easing": "linear"
              }
             }
            ],
            "label": "1997",
            "method": "animate"
           },
           {
            "args": [
             [
              "1998"
             ],
             {
              "frame": {
               "duration": 0,
               "redraw": true
              },
              "fromcurrent": true,
              "mode": "immediate",
              "transition": {
               "duration": 0,
               "easing": "linear"
              }
             }
            ],
            "label": "1998",
            "method": "animate"
           },
           {
            "args": [
             [
              "1999"
             ],
             {
              "frame": {
               "duration": 0,
               "redraw": true
              },
              "fromcurrent": true,
              "mode": "immediate",
              "transition": {
               "duration": 0,
               "easing": "linear"
              }
             }
            ],
            "label": "1999",
            "method": "animate"
           },
           {
            "args": [
             [
              "2000"
             ],
             {
              "frame": {
               "duration": 0,
               "redraw": true
              },
              "fromcurrent": true,
              "mode": "immediate",
              "transition": {
               "duration": 0,
               "easing": "linear"
              }
             }
            ],
            "label": "2000",
            "method": "animate"
           },
           {
            "args": [
             [
              "2001"
             ],
             {
              "frame": {
               "duration": 0,
               "redraw": true
              },
              "fromcurrent": true,
              "mode": "immediate",
              "transition": {
               "duration": 0,
               "easing": "linear"
              }
             }
            ],
            "label": "2001",
            "method": "animate"
           },
           {
            "args": [
             [
              "2002"
             ],
             {
              "frame": {
               "duration": 0,
               "redraw": true
              },
              "fromcurrent": true,
              "mode": "immediate",
              "transition": {
               "duration": 0,
               "easing": "linear"
              }
             }
            ],
            "label": "2002",
            "method": "animate"
           },
           {
            "args": [
             [
              "2003"
             ],
             {
              "frame": {
               "duration": 0,
               "redraw": true
              },
              "fromcurrent": true,
              "mode": "immediate",
              "transition": {
               "duration": 0,
               "easing": "linear"
              }
             }
            ],
            "label": "2003",
            "method": "animate"
           },
           {
            "args": [
             [
              "2004"
             ],
             {
              "frame": {
               "duration": 0,
               "redraw": true
              },
              "fromcurrent": true,
              "mode": "immediate",
              "transition": {
               "duration": 0,
               "easing": "linear"
              }
             }
            ],
            "label": "2004",
            "method": "animate"
           },
           {
            "args": [
             [
              "2005"
             ],
             {
              "frame": {
               "duration": 0,
               "redraw": true
              },
              "fromcurrent": true,
              "mode": "immediate",
              "transition": {
               "duration": 0,
               "easing": "linear"
              }
             }
            ],
            "label": "2005",
            "method": "animate"
           },
           {
            "args": [
             [
              "2006"
             ],
             {
              "frame": {
               "duration": 0,
               "redraw": true
              },
              "fromcurrent": true,
              "mode": "immediate",
              "transition": {
               "duration": 0,
               "easing": "linear"
              }
             }
            ],
            "label": "2006",
            "method": "animate"
           },
           {
            "args": [
             [
              "2007"
             ],
             {
              "frame": {
               "duration": 0,
               "redraw": true
              },
              "fromcurrent": true,
              "mode": "immediate",
              "transition": {
               "duration": 0,
               "easing": "linear"
              }
             }
            ],
            "label": "2007",
            "method": "animate"
           },
           {
            "args": [
             [
              "2008"
             ],
             {
              "frame": {
               "duration": 0,
               "redraw": true
              },
              "fromcurrent": true,
              "mode": "immediate",
              "transition": {
               "duration": 0,
               "easing": "linear"
              }
             }
            ],
            "label": "2008",
            "method": "animate"
           },
           {
            "args": [
             [
              "2009"
             ],
             {
              "frame": {
               "duration": 0,
               "redraw": true
              },
              "fromcurrent": true,
              "mode": "immediate",
              "transition": {
               "duration": 0,
               "easing": "linear"
              }
             }
            ],
            "label": "2009",
            "method": "animate"
           },
           {
            "args": [
             [
              "2010"
             ],
             {
              "frame": {
               "duration": 0,
               "redraw": true
              },
              "fromcurrent": true,
              "mode": "immediate",
              "transition": {
               "duration": 0,
               "easing": "linear"
              }
             }
            ],
            "label": "2010",
            "method": "animate"
           },
           {
            "args": [
             [
              "2011"
             ],
             {
              "frame": {
               "duration": 0,
               "redraw": true
              },
              "fromcurrent": true,
              "mode": "immediate",
              "transition": {
               "duration": 0,
               "easing": "linear"
              }
             }
            ],
            "label": "2011",
            "method": "animate"
           },
           {
            "args": [
             [
              "2012"
             ],
             {
              "frame": {
               "duration": 0,
               "redraw": true
              },
              "fromcurrent": true,
              "mode": "immediate",
              "transition": {
               "duration": 0,
               "easing": "linear"
              }
             }
            ],
            "label": "2012",
            "method": "animate"
           },
           {
            "args": [
             [
              "2013"
             ],
             {
              "frame": {
               "duration": 0,
               "redraw": true
              },
              "fromcurrent": true,
              "mode": "immediate",
              "transition": {
               "duration": 0,
               "easing": "linear"
              }
             }
            ],
            "label": "2013",
            "method": "animate"
           },
           {
            "args": [
             [
              "2014"
             ],
             {
              "frame": {
               "duration": 0,
               "redraw": true
              },
              "fromcurrent": true,
              "mode": "immediate",
              "transition": {
               "duration": 0,
               "easing": "linear"
              }
             }
            ],
            "label": "2014",
            "method": "animate"
           }
          ],
          "x": 0.1,
          "xanchor": "left",
          "y": 0,
          "yanchor": "top"
         }
        ],
        "template": {
         "data": {
          "bar": [
           {
            "error_x": {
             "color": "#2a3f5f"
            },
            "error_y": {
             "color": "#2a3f5f"
            },
            "marker": {
             "line": {
              "color": "#E5ECF6",
              "width": 0.5
             }
            },
            "type": "bar"
           }
          ],
          "barpolar": [
           {
            "marker": {
             "line": {
              "color": "#E5ECF6",
              "width": 0.5
             }
            },
            "type": "barpolar"
           }
          ],
          "carpet": [
           {
            "aaxis": {
             "endlinecolor": "#2a3f5f",
             "gridcolor": "white",
             "linecolor": "white",
             "minorgridcolor": "white",
             "startlinecolor": "#2a3f5f"
            },
            "baxis": {
             "endlinecolor": "#2a3f5f",
             "gridcolor": "white",
             "linecolor": "white",
             "minorgridcolor": "white",
             "startlinecolor": "#2a3f5f"
            },
            "type": "carpet"
           }
          ],
          "choropleth": [
           {
            "colorbar": {
             "outlinewidth": 0,
             "ticks": ""
            },
            "type": "choropleth"
           }
          ],
          "contour": [
           {
            "colorbar": {
             "outlinewidth": 0,
             "ticks": ""
            },
            "colorscale": [
             [
              0,
              "#0d0887"
             ],
             [
              0.1111111111111111,
              "#46039f"
             ],
             [
              0.2222222222222222,
              "#7201a8"
             ],
             [
              0.3333333333333333,
              "#9c179e"
             ],
             [
              0.4444444444444444,
              "#bd3786"
             ],
             [
              0.5555555555555556,
              "#d8576b"
             ],
             [
              0.6666666666666666,
              "#ed7953"
             ],
             [
              0.7777777777777778,
              "#fb9f3a"
             ],
             [
              0.8888888888888888,
              "#fdca26"
             ],
             [
              1,
              "#f0f921"
             ]
            ],
            "type": "contour"
           }
          ],
          "contourcarpet": [
           {
            "colorbar": {
             "outlinewidth": 0,
             "ticks": ""
            },
            "type": "contourcarpet"
           }
          ],
          "heatmap": [
           {
            "colorbar": {
             "outlinewidth": 0,
             "ticks": ""
            },
            "colorscale": [
             [
              0,
              "#0d0887"
             ],
             [
              0.1111111111111111,
              "#46039f"
             ],
             [
              0.2222222222222222,
              "#7201a8"
             ],
             [
              0.3333333333333333,
              "#9c179e"
             ],
             [
              0.4444444444444444,
              "#bd3786"
             ],
             [
              0.5555555555555556,
              "#d8576b"
             ],
             [
              0.6666666666666666,
              "#ed7953"
             ],
             [
              0.7777777777777778,
              "#fb9f3a"
             ],
             [
              0.8888888888888888,
              "#fdca26"
             ],
             [
              1,
              "#f0f921"
             ]
            ],
            "type": "heatmap"
           }
          ],
          "heatmapgl": [
           {
            "colorbar": {
             "outlinewidth": 0,
             "ticks": ""
            },
            "colorscale": [
             [
              0,
              "#0d0887"
             ],
             [
              0.1111111111111111,
              "#46039f"
             ],
             [
              0.2222222222222222,
              "#7201a8"
             ],
             [
              0.3333333333333333,
              "#9c179e"
             ],
             [
              0.4444444444444444,
              "#bd3786"
             ],
             [
              0.5555555555555556,
              "#d8576b"
             ],
             [
              0.6666666666666666,
              "#ed7953"
             ],
             [
              0.7777777777777778,
              "#fb9f3a"
             ],
             [
              0.8888888888888888,
              "#fdca26"
             ],
             [
              1,
              "#f0f921"
             ]
            ],
            "type": "heatmapgl"
           }
          ],
          "histogram": [
           {
            "marker": {
             "colorbar": {
              "outlinewidth": 0,
              "ticks": ""
             }
            },
            "type": "histogram"
           }
          ],
          "histogram2d": [
           {
            "colorbar": {
             "outlinewidth": 0,
             "ticks": ""
            },
            "colorscale": [
             [
              0,
              "#0d0887"
             ],
             [
              0.1111111111111111,
              "#46039f"
             ],
             [
              0.2222222222222222,
              "#7201a8"
             ],
             [
              0.3333333333333333,
              "#9c179e"
             ],
             [
              0.4444444444444444,
              "#bd3786"
             ],
             [
              0.5555555555555556,
              "#d8576b"
             ],
             [
              0.6666666666666666,
              "#ed7953"
             ],
             [
              0.7777777777777778,
              "#fb9f3a"
             ],
             [
              0.8888888888888888,
              "#fdca26"
             ],
             [
              1,
              "#f0f921"
             ]
            ],
            "type": "histogram2d"
           }
          ],
          "histogram2dcontour": [
           {
            "colorbar": {
             "outlinewidth": 0,
             "ticks": ""
            },
            "colorscale": [
             [
              0,
              "#0d0887"
             ],
             [
              0.1111111111111111,
              "#46039f"
             ],
             [
              0.2222222222222222,
              "#7201a8"
             ],
             [
              0.3333333333333333,
              "#9c179e"
             ],
             [
              0.4444444444444444,
              "#bd3786"
             ],
             [
              0.5555555555555556,
              "#d8576b"
             ],
             [
              0.6666666666666666,
              "#ed7953"
             ],
             [
              0.7777777777777778,
              "#fb9f3a"
             ],
             [
              0.8888888888888888,
              "#fdca26"
             ],
             [
              1,
              "#f0f921"
             ]
            ],
            "type": "histogram2dcontour"
           }
          ],
          "mesh3d": [
           {
            "colorbar": {
             "outlinewidth": 0,
             "ticks": ""
            },
            "type": "mesh3d"
           }
          ],
          "parcoords": [
           {
            "line": {
             "colorbar": {
              "outlinewidth": 0,
              "ticks": ""
             }
            },
            "type": "parcoords"
           }
          ],
          "pie": [
           {
            "automargin": true,
            "type": "pie"
           }
          ],
          "scatter": [
           {
            "marker": {
             "colorbar": {
              "outlinewidth": 0,
              "ticks": ""
             }
            },
            "type": "scatter"
           }
          ],
          "scatter3d": [
           {
            "line": {
             "colorbar": {
              "outlinewidth": 0,
              "ticks": ""
             }
            },
            "marker": {
             "colorbar": {
              "outlinewidth": 0,
              "ticks": ""
             }
            },
            "type": "scatter3d"
           }
          ],
          "scattercarpet": [
           {
            "marker": {
             "colorbar": {
              "outlinewidth": 0,
              "ticks": ""
             }
            },
            "type": "scattercarpet"
           }
          ],
          "scattergeo": [
           {
            "marker": {
             "colorbar": {
              "outlinewidth": 0,
              "ticks": ""
             }
            },
            "type": "scattergeo"
           }
          ],
          "scattergl": [
           {
            "marker": {
             "colorbar": {
              "outlinewidth": 0,
              "ticks": ""
             }
            },
            "type": "scattergl"
           }
          ],
          "scattermapbox": [
           {
            "marker": {
             "colorbar": {
              "outlinewidth": 0,
              "ticks": ""
             }
            },
            "type": "scattermapbox"
           }
          ],
          "scatterpolar": [
           {
            "marker": {
             "colorbar": {
              "outlinewidth": 0,
              "ticks": ""
             }
            },
            "type": "scatterpolar"
           }
          ],
          "scatterpolargl": [
           {
            "marker": {
             "colorbar": {
              "outlinewidth": 0,
              "ticks": ""
             }
            },
            "type": "scatterpolargl"
           }
          ],
          "scatterternary": [
           {
            "marker": {
             "colorbar": {
              "outlinewidth": 0,
              "ticks": ""
             }
            },
            "type": "scatterternary"
           }
          ],
          "surface": [
           {
            "colorbar": {
             "outlinewidth": 0,
             "ticks": ""
            },
            "colorscale": [
             [
              0,
              "#0d0887"
             ],
             [
              0.1111111111111111,
              "#46039f"
             ],
             [
              0.2222222222222222,
              "#7201a8"
             ],
             [
              0.3333333333333333,
              "#9c179e"
             ],
             [
              0.4444444444444444,
              "#bd3786"
             ],
             [
              0.5555555555555556,
              "#d8576b"
             ],
             [
              0.6666666666666666,
              "#ed7953"
             ],
             [
              0.7777777777777778,
              "#fb9f3a"
             ],
             [
              0.8888888888888888,
              "#fdca26"
             ],
             [
              1,
              "#f0f921"
             ]
            ],
            "type": "surface"
           }
          ],
          "table": [
           {
            "cells": {
             "fill": {
              "color": "#EBF0F8"
             },
             "line": {
              "color": "white"
             }
            },
            "header": {
             "fill": {
              "color": "#C8D4E3"
             },
             "line": {
              "color": "white"
             }
            },
            "type": "table"
           }
          ]
         },
         "layout": {
          "annotationdefaults": {
           "arrowcolor": "#2a3f5f",
           "arrowhead": 0,
           "arrowwidth": 1
          },
          "autotypenumbers": "strict",
          "coloraxis": {
           "colorbar": {
            "outlinewidth": 0,
            "ticks": ""
           }
          },
          "colorscale": {
           "diverging": [
            [
             0,
             "#8e0152"
            ],
            [
             0.1,
             "#c51b7d"
            ],
            [
             0.2,
             "#de77ae"
            ],
            [
             0.3,
             "#f1b6da"
            ],
            [
             0.4,
             "#fde0ef"
            ],
            [
             0.5,
             "#f7f7f7"
            ],
            [
             0.6,
             "#e6f5d0"
            ],
            [
             0.7,
             "#b8e186"
            ],
            [
             0.8,
             "#7fbc41"
            ],
            [
             0.9,
             "#4d9221"
            ],
            [
             1,
             "#276419"
            ]
           ],
           "sequential": [
            [
             0,
             "#0d0887"
            ],
            [
             0.1111111111111111,
             "#46039f"
            ],
            [
             0.2222222222222222,
             "#7201a8"
            ],
            [
             0.3333333333333333,
             "#9c179e"
            ],
            [
             0.4444444444444444,
             "#bd3786"
            ],
            [
             0.5555555555555556,
             "#d8576b"
            ],
            [
             0.6666666666666666,
             "#ed7953"
            ],
            [
             0.7777777777777778,
             "#fb9f3a"
            ],
            [
             0.8888888888888888,
             "#fdca26"
            ],
            [
             1,
             "#f0f921"
            ]
           ],
           "sequentialminus": [
            [
             0,
             "#0d0887"
            ],
            [
             0.1111111111111111,
             "#46039f"
            ],
            [
             0.2222222222222222,
             "#7201a8"
            ],
            [
             0.3333333333333333,
             "#9c179e"
            ],
            [
             0.4444444444444444,
             "#bd3786"
            ],
            [
             0.5555555555555556,
             "#d8576b"
            ],
            [
             0.6666666666666666,
             "#ed7953"
            ],
            [
             0.7777777777777778,
             "#fb9f3a"
            ],
            [
             0.8888888888888888,
             "#fdca26"
            ],
            [
             1,
             "#f0f921"
            ]
           ]
          },
          "colorway": [
           "#636efa",
           "#EF553B",
           "#00cc96",
           "#ab63fa",
           "#FFA15A",
           "#19d3f3",
           "#FF6692",
           "#B6E880",
           "#FF97FF",
           "#FECB52"
          ],
          "font": {
           "color": "#2a3f5f"
          },
          "geo": {
           "bgcolor": "white",
           "lakecolor": "white",
           "landcolor": "#E5ECF6",
           "showlakes": true,
           "showland": true,
           "subunitcolor": "white"
          },
          "hoverlabel": {
           "align": "left"
          },
          "hovermode": "closest",
          "mapbox": {
           "style": "light"
          },
          "paper_bgcolor": "white",
          "plot_bgcolor": "#E5ECF6",
          "polar": {
           "angularaxis": {
            "gridcolor": "white",
            "linecolor": "white",
            "ticks": ""
           },
           "bgcolor": "#E5ECF6",
           "radialaxis": {
            "gridcolor": "white",
            "linecolor": "white",
            "ticks": ""
           }
          },
          "scene": {
           "xaxis": {
            "backgroundcolor": "#E5ECF6",
            "gridcolor": "white",
            "gridwidth": 2,
            "linecolor": "white",
            "showbackground": true,
            "ticks": "",
            "zerolinecolor": "white"
           },
           "yaxis": {
            "backgroundcolor": "#E5ECF6",
            "gridcolor": "white",
            "gridwidth": 2,
            "linecolor": "white",
            "showbackground": true,
            "ticks": "",
            "zerolinecolor": "white"
           },
           "zaxis": {
            "backgroundcolor": "#E5ECF6",
            "gridcolor": "white",
            "gridwidth": 2,
            "linecolor": "white",
            "showbackground": true,
            "ticks": "",
            "zerolinecolor": "white"
           }
          },
          "shapedefaults": {
           "line": {
            "color": "#2a3f5f"
           }
          },
          "ternary": {
           "aaxis": {
            "gridcolor": "white",
            "linecolor": "white",
            "ticks": ""
           },
           "baxis": {
            "gridcolor": "white",
            "linecolor": "white",
            "ticks": ""
           },
           "bgcolor": "#E5ECF6",
           "caxis": {
            "gridcolor": "white",
            "linecolor": "white",
            "ticks": ""
           }
          },
          "title": {
           "x": 0.05
          },
          "xaxis": {
           "automargin": true,
           "gridcolor": "white",
           "linecolor": "white",
           "ticks": "",
           "title": {
            "standoff": 15
           },
           "zerolinecolor": "white",
           "zerolinewidth": 2
          },
          "yaxis": {
           "automargin": true,
           "gridcolor": "white",
           "linecolor": "white",
           "ticks": "",
           "title": {
            "standoff": 15
           },
           "zerolinecolor": "white",
           "zerolinewidth": 2
          }
         }
        },
        "title": {
         "text": "Zielona energia wyprodukowana w krajach UE (MkWh)"
        },
        "updatemenus": [
         {
          "buttons": [
           {
            "args": [
             null,
             {
              "frame": {
               "duration": 500,
               "redraw": true
              },
              "fromcurrent": true,
              "mode": "immediate",
              "transition": {
               "duration": 500,
               "easing": "linear"
              }
             }
            ],
            "label": "&#9654;",
            "method": "animate"
           },
           {
            "args": [
             [
              null
             ],
             {
              "frame": {
               "duration": 0,
               "redraw": true
              },
              "fromcurrent": true,
              "mode": "immediate",
              "transition": {
               "duration": 0,
               "easing": "linear"
              }
             }
            ],
            "label": "&#9724;",
            "method": "animate"
           }
          ],
          "direction": "left",
          "pad": {
           "r": 10,
           "t": 70
          },
          "showactive": false,
          "type": "buttons",
          "x": 0.1,
          "xanchor": "right",
          "y": 0,
          "yanchor": "top"
         }
        ]
       }
      }
     },
     "metadata": {}
    }
   ],
   "source": [
    "fig = px.choropleth(data_frame = gg,\n",
    "                    scope= \"europe\",\n",
    "                    locations= \"ISO_code\",\n",
    "                    color= \"quantity\",  # value in column 'quantity' determines color\n",
    "                    hover_name= \"country_or_area\",\n",
    "                    color_continuous_scale= 'RdYlGn',#  color scale red, yellow green\n",
    "                    animation_frame= \"year\",\n",
    "                    title = \"Zielona energia wyprodukowana w krajach UE (MkWh)\")\n",
    "                    \n",
    "                    \n",
    "\n",
    "fig.show()"
   ]
  }
 ],
 "metadata": {
  "kernelspec": {
   "display_name": "Python 3",
   "language": "python",
   "name": "python3"
  },
  "language_info": {
   "codemirror_mode": {
    "name": "ipython",
    "version": 3
   },
   "file_extension": ".py",
   "mimetype": "text/x-python",
   "name": "python",
   "nbconvert_exporter": "python",
   "pygments_lexer": "ipython3",
   "version": "3.7.6-final"
  }
 },
 "nbformat": 4,
 "nbformat_minor": 2
}