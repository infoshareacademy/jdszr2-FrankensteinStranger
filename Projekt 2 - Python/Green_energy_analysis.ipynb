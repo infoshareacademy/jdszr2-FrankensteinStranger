{
 "cells": [
  {
   "cell_type": "code",
   "execution_count": null,
   "metadata": {},
   "outputs": [],
   "source": [
    "import numpy as np\n",
    "import pandas as pd\n",
    "import matplotlib.pyplot as plt\n",
    "import seaborn as sns\n",
    "import ipywidgets as widgets\n",
    "%matplotlib inline"
   ]
  },
  {
   "cell_type": "code",
   "execution_count": null,
   "metadata": {},
   "outputs": [],
   "source": [
    "df = pd.read_csv(\"energy_statistics_UE_v3.csv\")\n",
    "df"
   ]
  },
  {
   "cell_type": "code",
   "execution_count": null,
   "metadata": {},
   "outputs": [],
   "source": [
    "green = df[df[\"wide_category\"] == \"Green\"]\n",
    "green"
   ]
  },
  {
   "cell_type": "code",
   "execution_count": null,
   "metadata": {},
   "outputs": [],
   "source": [
    "#wszystkie kategorie/transakcje są w tych samych jednostkach\n",
    "print(green[\"unit\"].unique())\n",
    "print(green[\"transaction\"].unique())\n",
    "print(green[\"category\"].unique())"
   ]
  },
  {
   "cell_type": "code",
   "execution_count": null,
   "metadata": {},
   "outputs": [],
   "source": [
    "#suma wyprodukowanej zielonej energii (wszystkie kategorie) posortowana wg lat i krajów\n",
    "grouped_green = green.groupby(by=[\"year\",\"country_or_area\"], as_index = False)\n",
    "green_sum = pd.DataFrame(grouped_green[\"quantity\"].sum())\n",
    "green_sum"
   ]
  },
  {
   "cell_type": "code",
   "execution_count": null,
   "metadata": {},
   "outputs": [],
   "source": [
    "#top 5 pod względem \"quantity\" w 2014 (czyli ostatnim okresie w próbie)\n",
    "green_sum[green_sum[\"year\"] == 2014].nlargest(5, \"quantity\")"
   ]
  },
  {
   "cell_type": "code",
   "execution_count": null,
   "metadata": {},
   "outputs": [],
   "source": [
    "#DF dla średniej z top 5 \n",
    "#warunki\n",
    "var_1 = green_sum[\"country_or_area\"] == \"Germany\"\n",
    "var_2 = green_sum[\"country_or_area\"] == \"Spain\"\n",
    "var_3 = green_sum[\"country_or_area\"] == \"Italy\"\n",
    "var_4 = green_sum[\"country_or_area\"] == \"France\"\n",
    "var_5 = green_sum[\"country_or_area\"] == \"Sweden\"\n",
    "#DF - wszystkie z top 5\n",
    "top_5 = green_sum[var_1 | var_2 | var_3 | var_4 | var_5] \n",
    "#Groupby po roku ze średnią\n",
    "top_5_grouped = top_5.groupby(by=[\"year\"], as_index = False)\n",
    "mean_top_5 = pd.DataFrame(top_5_grouped[\"quantity\"].mean())"
   ]
  },
  {
   "cell_type": "code",
   "execution_count": null,
   "metadata": {},
   "outputs": [],
   "source": [
    "#suma energii wyprodukowana w konkretnych latach w podziale na kraje i kategorie\n",
    "grouped_green_category = green.groupby(by=[\"year\",\"country_or_area\", \"transaction\"], as_index = False)\n",
    "green_sum_cat = pd.DataFrame(grouped_green_category[\"quantity\"].sum())\n",
    "green_sum_cat"
   ]
  },
  {
   "cell_type": "code",
   "execution_count": null,
   "metadata": {},
   "outputs": [],
   "source": [
    "#słownik opisów kategorii\n",
    "category_descr = {\"total geothermal production\": \"Geothermal energy is heat derived within the sub-surface of the earth. Water and/or steam carry the geothermal energy to the Earth's surface. Depending on its characteristics, geothermal energy can be used for heating and cooling purposes or be harnessed to generate clean electricity.\",\n",
    "                  \"total hydro production\": \"Hydropower or water power is power derived from the energy of falling or fast-running water, which may be harnessed for useful purposes. Since ancient times, hydropower from many kinds of watermills has been used as a renewable energy source for irrigation and the operation of various mechanical devices. A trompe, which produces compressed air from falling water, is sometimes used to power other machinery at a distance.\",\n",
    "                  \"total solar production\": \"Solar power is the conversion of energy from sunlight into electricity, either directly using photovoltaics, indirectly using concentrated solar power, or a combination. Concentrated solar power systems use lenses or mirrors and solar tracking systems to focus a large area of sunlight into a small beam. Photovoltaic cells convert light into an electric current using the photovoltaic effect.\",\n",
    "                  \"total tide, wave production\": \"Tidal energy is a renewable energy powered by the natural rise and fall of ocean tides and currents. Some of these technologies include turbines and paddles. Tidal energy is produced by the surge of ocean waters during the rise and fall of tides.\",\n",
    "                  \"total wind production\": \"Wind energy (or wind power) refers to the process of creating electricity using the wind, or air flows that occur naturally in the earth’s atmosphere. Modern wind turbines are used to capture kinetic energy from the wind and generate electricity.\"}"
   ]
  },
  {
   "cell_type": "code",
   "execution_count": null,
   "metadata": {},
   "outputs": [],
   "source": [
    "#widget\n",
    "country_list = list(green_sum[\"country_or_area\"].unique())\n",
    "transaction_list = list(green[\"transaction\"].unique())\n",
    "choice_widget_country = widgets.Dropdown(options=country_list)\n",
    "choice_widget_category = widgets.Dropdown(options=transaction_list)\n",
    "values = {\"Kraj\": choice_widget_country.value, \"Kategoria\": choice_widget_category.value}\n",
    "def widgets_handler(country_choice, category_choice):\n",
    "    values[\"Kraj\"] = country_choice\n",
    "    values[\"Kategoria\"] = category_choice"
   ]
  },
  {
   "cell_type": "code",
   "execution_count": null,
   "metadata": {},
   "outputs": [],
   "source": [
    "#wykres z sumą energii w totalu w danym kraju (wybranym z listy)\n",
    "def plot_total():\n",
    "    x = green_sum[green_sum[\"country_or_area\"] == values[\"Kraj\"]]\n",
    "    plt.figure(figsize=(8, 6))\n",
    "    plt.plot(\"year\", \"quantity\", data=x, label = \"total green energy produced by {}\".format(values[\"Kraj\"]))\n",
    "    plt.plot(\"year\", \"quantity\", data = mean_top_5, label = \"total green energy produced by top 5 countries (mean)\")\n",
    "    plt.legend()\n",
    "    plt.xlim(1990, 2015)\n",
    "    plt.title(label = \"green energy produced in {} in comparison with mean of top 5\".format(values[\"Kraj\"]))\n",
    "    plt.show()"
   ]
  },
  {
   "cell_type": "code",
   "execution_count": null,
   "metadata": {},
   "outputs": [],
   "source": [
    "#wykres z sumą energii w danym kraju (wybranym z listy) i w wybranej kategorii (też z listy)\n",
    "#dodatkowo drukuje opis wybranej kategorii\n",
    "def plot_category():\n",
    "    kraj = green_sum_cat[\"country_or_area\"] == values[\"Kraj\"]\n",
    "    kategoria = green_sum_cat[\"transaction\"] == values[\"Kategoria\"]\n",
    "    print(\"Description of the energy source:\")\n",
    "    for key, value in category_descr.items():\n",
    "        if values[\"Kategoria\"] == key:\n",
    "            print(value)\n",
    "    y = green_sum_cat[kraj & kategoria]\n",
    "    plt.figure(figsize=(8, 6))\n",
    "    plt.xlim(1990, 2015)\n",
    "    plt.plot(\"year\", \"quantity\", data=y)\n",
    "    plt.title(label = \"{} in {}\".format(values[\"Kategoria\"], values[\"Kraj\"]))\n",
    "    plt.show()"
   ]
  },
  {
   "cell_type": "code",
   "execution_count": null,
   "metadata": {},
   "outputs": [],
   "source": [
    "#wykres z totalem produkcji energii w danym kraju oraz udziałem poszczególnych\n",
    "def plot_bar():\n",
    "    kraj = green_sum_cat[\"country_or_area\"] == values[\"Kraj\"]\n",
    "    kategoria = green_sum_cat[\"transaction\"] == values[\"Kategoria\"]\n",
    "    z = green_sum_cat[kraj]\n",
    "    z = z[[\"year\", \"transaction\", \"quantity\"]]\n",
    "    z_pivot = z.pivot(index = \"year\", columns = \"transaction\", values = \"quantity\")\n",
    "    z_pivot = z_pivot.fillna(0)\n",
    "    z_pivot.plot.bar(stacked = True)\n",
    "    plt.title(label = \"share of green energy sources in {}\".format(values[\"Kraj\"]))    \n",
    "    plt.legend(title=None)\n",
    "    plt.show()"
   ]
  },
  {
   "cell_type": "code",
   "execution_count": null,
   "metadata": {},
   "outputs": [],
   "source": [
    "#wykres z totalem produkcji energii w danym kraju oraz udziałem poszczególnych - stack 100%\n",
    "def plot_bar_100():\n",
    "    kraj = green_sum_cat[\"country_or_area\"] == values[\"Kraj\"]\n",
    "    kategoria = green_sum_cat[\"transaction\"] == values[\"Kategoria\"]\n",
    "    z = green_sum_cat[kraj]\n",
    "    z = z[[\"year\", \"transaction\", \"quantity\"]]\n",
    "    z_pivot = z.pivot(index = \"year\", columns = \"transaction\", values = \"quantity\")\n",
    "    z_pivot = z_pivot.fillna(0)\n",
    "    z_pivot.apply(lambda x: x*100/sum(x), axis=1).plot(kind=\"bar\", stacked=True)\n",
    "    plt.title(label = \"share of green energy sources in {}\".format(values[\"Kraj\"]))\n",
    "    plt.legend(title=None)\n",
    "    plt.show()"
   ]
  },
  {
   "cell_type": "code",
   "execution_count": null,
   "metadata": {},
   "outputs": [],
   "source": [
    "widgets.interact(widgets_handler, country_choice=choice_widget_country, category_choice = choice_widget_category)\n",
    "plot_total()\n",
    "plot_category()\n",
    "plot_bar() #opcja 1\n",
    "plot_bar_100() #opcja 2"
   ]
  }
 ],
 "metadata": {
  "kernelspec": {
   "display_name": "Python 3.7.6 64-bit ('base': conda)",
   "language": "python",
   "name": "python37664bitbaseconda142b22abb85e4b4b91528d66a9136cb4"
  },
  "language_info": {
   "codemirror_mode": {
    "name": "ipython",
    "version": 3
   },
   "file_extension": ".py",
   "mimetype": "text/x-python",
   "name": "python",
   "nbconvert_exporter": "python",
   "pygments_lexer": "ipython3",
   "version": "3.7.6"
  }
 },
 "nbformat": 4,
 "nbformat_minor": 4
}
