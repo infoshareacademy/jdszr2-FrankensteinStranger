{
 "cells": [
  {
   "cell_type": "code",
   "execution_count": null,
   "metadata": {},
   "outputs": [],
   "source": [
    "import numpy as np\n",
    "import pandas as pd\n",
    "import matplotlib.pyplot as plt\n",
    "from matplotlib.ticker import (AutoMinorLocator, MultipleLocator)\n",
    "import seaborn as sns\n",
    "import ipywidgets as widgets\n",
    "%matplotlib inline"
   ]
  },
  {
   "cell_type": "code",
   "execution_count": null,
   "metadata": {},
   "outputs": [],
   "source": [
    "data_frame = pd.read_csv(\"energy_statistics_UE_v3.csv\")\n",
    "data_frame"
   ]
  },
  {
   "cell_type": "code",
   "execution_count": null,
   "metadata": {},
   "outputs": [],
   "source": [
    "#odfiltrowanie wyników dla jednostki kWh w celu sprawdzenia czy da się wyciągnąć procent energii prod z wiatru\n",
    "#wykres procentowy, nie tylko ilościowy dawałby lepszy kontekst \n",
    "df_kWh = data_frame[data_frame[\"unit\"] == \"Kilowatt-hours, million\"]\n",
    "df_kWh"
   ]
  },
  {
   "cell_type": "code",
   "execution_count": null,
   "metadata": {},
   "outputs": [],
   "source": [
    "#usuwanie NaN z kolumny transaction\n",
    "df_kWh = df_kWh[df_kWh[\"transaction\"].notna()] \n",
    "df_kWh"
   ]
  },
  {
   "cell_type": "code",
   "execution_count": null,
   "metadata": {},
   "outputs": [],
   "source": [
    "#odfiltrowanie tylko produkcji energii\n",
    "df_kWh_prod = df_kWh[df_kWh[\"transaction\"].str.contains(\"production\",case = False)]\n",
    "df_kWh_prod"
   ]
  },
  {
   "cell_type": "code",
   "execution_count": null,
   "metadata": {},
   "outputs": [],
   "source": [
    "#data frame z sumą produkcji energii za dane lata dla całej EU\n",
    "energy_prod_gr = df_kWh_prod.groupby(by = [\"year\"], as_index = False)\n",
    "energy_prod_sum = pd.DataFrame(energy_prod_gr[\"quantity\"].sum())\n",
    "energy_prod_sum"
   ]
  },
  {
   "cell_type": "code",
   "execution_count": null,
   "metadata": {},
   "outputs": [],
   "source": [
    "#wykres ilościowy produkowanej energii dla całej EU\n",
    "#widać, że ilość produkowanej energii spada - trzeba zweryfikować czy tak jest i dlaczego :D\n",
    "#drop po 2008 roku - przez kryzys gospodarczy?\n",
    "\n",
    "fig, ax = plt.subplots(figsize=(13, 8))\n",
    "plt.xticks(fontsize=12, rotation = 90)\n",
    "plt.yticks(fontsize=12)\n",
    "\n",
    "#ustawianie osi X, żeby wyświetlała wszystkie lata po kolei, a nie co 5.\n",
    "ax.set_xlim(0, 2014)\n",
    "ax.xaxis.set_major_locator(MultipleLocator(1))\n",
    "\n",
    "#tworzenie siatki, żeby wykres był bardziej czytelny\n",
    "ax.grid(which='major', color='#CCCCCC', linestyle='--')\n",
    "ax.grid(which='minor', color='#CCCCCC', linestyle=':')\n",
    "\n",
    "plt.plot(energy_prod_sum[[\"quantity\", \"year\"]].groupby(by=\"year\").sum(),label=\"All UE countries\")\n",
    "\n",
    "plt.legend(fontsize=14)\n",
    "plt.ylabel(\"Millions of Kilowatts-Hour\",fontsize=20)\n",
    "plt.xlabel('Year',fontsize=20)\n",
    "plt.title('Total energy production in the EU',fontsize=24)\n",
    "plt.xlim(1990, 2014)\n",
    "plt.show()"
   ]
  },
  {
   "cell_type": "code",
   "execution_count": null,
   "metadata": {},
   "outputs": [],
   "source": [
    "#przygotowanie list pod wykresy\n",
    "list_category = df_kWh[\"wide_category\"].unique()\n",
    "print(list_category)\n",
    "\n",
    "list_transaction = df_kWh[\"transaction\"].unique()\n",
    "print(list_transaction)"
   ]
  },
  {
   "cell_type": "code",
   "execution_count": null,
   "metadata": {},
   "outputs": [],
   "source": [
    "#stworzenie data_framu z całkowitą produkcją roczną energii per kraj - do późniejszych wykresów % udziału\n",
    "# nuclear + green + gross production z Energy_and_Heat\n",
    "df_temp = df_kWh_prod.copy()\n",
    "df_temp"
   ]
  },
  {
   "cell_type": "code",
   "execution_count": null,
   "metadata": {},
   "outputs": [],
   "source": [
    "#przygotowanie wierszy do usunięcia \n",
    "to_drop = ['net production', 'total production, autoproducer', 'total production, main activity']\n",
    "df_temp[\"to drop\"] = np.where(df_temp[\"transaction\"].isin(to_drop), \"Y\", \"N\")\n",
    "df_temp[df_temp[\"to drop\"] == \"Y\"]"
   ]
  },
  {
   "cell_type": "code",
   "execution_count": null,
   "metadata": {},
   "outputs": [],
   "source": [
    "df_temp = df_temp[df_temp[\"to drop\"] == \"N\"]\n",
    "df_temp"
   ]
  },
  {
   "cell_type": "code",
   "execution_count": null,
   "metadata": {},
   "outputs": [],
   "source": [
    "#usunięcie już niepotrzebnej kolumny to drop\n",
    "df_temp = df_temp.drop(columns = \"to drop\")\n",
    "df_temp"
   ]
  },
  {
   "cell_type": "code",
   "execution_count": null,
   "metadata": {},
   "outputs": [],
   "source": [
    "df_temp.to_csv(\"energy_gross_prod_UE.csv\") #zapisanie przygotowanego DF"
   ]
  },
  {
   "cell_type": "code",
   "execution_count": null,
   "metadata": {},
   "outputs": [],
   "source": [
    "#suma energii dla całej EU per rok w rozbiciu na kategorie\n",
    "cat_prod_sum = df_temp[[\"wide_category\", \"year\", \"quantity\"]].groupby(by = [\"wide_category\", \"year\"], as_index = False).sum()\n",
    "cat_prod_sum"
   ]
  },
  {
   "cell_type": "code",
   "execution_count": null,
   "metadata": {},
   "outputs": [],
   "source": [
    "#ogólny wykres dla calej EU dla kategorii z udziałem poszczególnych kategorii\n",
    "z = cat_prod_sum\n",
    "z = z[[\"year\", \"wide_category\", \"quantity\"]]\n",
    "z_pivot = z.pivot(index = \"year\", columns = \"wide_category\", values = \"quantity\")\n",
    "z_pivot = z_pivot.fillna(0)\n",
    "z_pivot.plot.bar(stacked = True)\n",
    "plt.title(label = \"Share of energy sources in EU\")\n",
    "plt.legend(title=None)\n",
    "plt.show()"
   ]
  },
  {
   "cell_type": "code",
   "execution_count": null,
   "metadata": {},
   "outputs": [],
   "source": [
    "#ogólny wykres dla calej EU dla kategorii z udziałem poszczególnych kategorii - stack \n",
    "z = cat_prod_sum\n",
    "z = z[[\"year\", \"wide_category\", \"quantity\"]]\n",
    "z_pivot = z.pivot(index = \"year\", columns = \"wide_category\", values = \"quantity\")\n",
    "z_pivot = z_pivot.fillna(0)\n",
    "z_pivot.apply(lambda x: x*100/sum(x), axis=1).plot(kind=\"bar\", stacked=True)\n",
    "plt.title(label = \"Share of green energy sources in EU\")\n",
    "plt.legend(title=None)\n",
    "plt.show()"
   ]
  },
  {
   "cell_type": "code",
   "execution_count": null,
   "metadata": {},
   "outputs": [],
   "source": [
    "#GREEN energy przygotowanie DF\n",
    "Green_prod = df_kWh_prod[df_kWh_prod[\"wide_category\"] == \"Green\"]\n",
    "list_trans_green = Green_prod[\"transaction\"].unique()"
   ]
  },
  {
   "cell_type": "code",
   "execution_count": null,
   "metadata": {},
   "outputs": [],
   "source": [
    "#DF z sumą energii zielonej per rok dla całej UE\n",
    "green_prod_gr = Green_prod.groupby(by = [\"year\"], as_index = False)\n",
    "green_prod_sum = pd.DataFrame(green_prod_gr[\"quantity\"].sum())\n",
    "green_prod_sum"
   ]
  },
  {
   "cell_type": "code",
   "execution_count": null,
   "metadata": {},
   "outputs": [],
   "source": [
    "#wykres z totalem produkcji energii zielonej w UE w poszczególnych latach\n",
    "#widać duży skok po 2005 roku można zrobić research czy nie weszła jakaś dyrektywa/dopłaty - ciekawostka do prezentacji\n",
    "fig, ax = plt.subplots(figsize=(13, 8))\n",
    "plt.xticks(fontsize=12, rotation = 90)\n",
    "plt.yticks(fontsize=12)\n",
    "\n",
    "#ustawianie osi X, żeby wyświetlała wszystkie lata po kolei, a nie co 5.\n",
    "ax.set_xlim(0, 2014)\n",
    "ax.xaxis.set_major_locator(MultipleLocator(1))\n",
    "\n",
    "#tworzenie siatki, żeby wykres był bardziej czytelny\n",
    "ax.grid(which='major', color='#CCCCCC', linestyle='--')\n",
    "ax.grid(which='minor', color='#CCCCCC', linestyle=':')\n",
    "\n",
    "plt.plot(green_prod_sum[[\"quantity\", \"year\"]].groupby(by=\"year\").sum(),label=\"All UE countries\")\n",
    "\n",
    "plt.legend(fontsize=14)\n",
    "plt.ylabel(\"Millions of Kilowatts-Hour\",fontsize=20)\n",
    "plt.xlabel('Year',fontsize=20)\n",
    "plt.title('Total green energy production in the EU',fontsize=24)\n",
    "plt.xlim(1990, 2014)\n",
    "plt.show()"
   ]
  },
  {
   "cell_type": "code",
   "execution_count": null,
   "metadata": {},
   "outputs": [],
   "source": [
    "#suma energii wyprodukowana w konkretnych latach w podziale na lata i kategorie\n",
    "gr_green_trans = Green_prod.groupby(by = [\"year\", \"transaction\"], as_index = False)\n",
    "green_trans_sum = pd.DataFrame(gr_green_trans[\"quantity\"].sum())\n",
    "green_trans_sum"
   ]
  },
  {
   "cell_type": "code",
   "execution_count": null,
   "metadata": {},
   "outputs": [],
   "source": [
    "#wykres z totalem wyprodukowanej energii zielonej w UE w podziale na lata i kategorie  \n",
    "z = green_trans_sum\n",
    "z = z[[\"year\", \"transaction\", \"quantity\"]]\n",
    "z_pivot = z.pivot(index = \"year\", columns = \"transaction\", values = \"quantity\")\n",
    "z_pivot = z_pivot.fillna(0)\n",
    "z_pivot.plot.bar(stacked = True)\n",
    "plt.title(label = \"Share of green energy sources in EU\")\n",
    "plt.legend(title=None)\n",
    "plt.show()"
   ]
  },
  {
   "cell_type": "code",
   "execution_count": null,
   "metadata": {},
   "outputs": [],
   "source": [
    "#wykres z totalem wyprodukowanej energii zielonej w UE w podziale na lata i kategorie - stack\n",
    "z = green_trans_sum\n",
    "z = z[[\"year\", \"transaction\", \"quantity\"]]\n",
    "z_pivot = z.pivot(index = \"year\", columns = \"transaction\", values = \"quantity\")\n",
    "z_pivot = z_pivot.fillna(0)\n",
    "z_pivot.apply(lambda x: x*100/sum(x), axis=1).plot(kind=\"bar\", stacked=True)\n",
    "plt.title(label = \"Share of green energy sources in EU\")\n",
    "plt.legend(title=None)\n",
    "plt.show()"
   ]
  },
  {
   "cell_type": "code",
   "execution_count": null,
   "metadata": {},
   "outputs": [],
   "source": []
  }
 ],
 "metadata": {
  "kernelspec": {
   "display_name": "Python 3",
   "language": "python",
   "name": "python3"
  },
  "language_info": {
   "codemirror_mode": {
    "name": "ipython",
    "version": 3
   },
   "file_extension": ".py",
   "mimetype": "text/x-python",
   "name": "python",
   "nbconvert_exporter": "python",
   "pygments_lexer": "ipython3",
   "version": "3.7.6"
  }
 },
 "nbformat": 4,
 "nbformat_minor": 4
}
