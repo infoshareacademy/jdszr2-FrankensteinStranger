{
 "cells": [
  {
   "cell_type": "code",
   "execution_count": null,
   "metadata": {},
   "outputs": [],
   "source": [
    "import numpy as np\n",
    "import pandas as pd\n",
    "import matplotlib.pyplot as plt\n",
    "import seaborn as sns\n",
    "import ipywidgets as widgets\n",
    "%matplotlib inline"
   ]
  },
  {
   "cell_type": "code",
   "execution_count": null,
   "metadata": {},
   "outputs": [],
   "source": [
    "df = pd.read_csv(\"energy_statistics_UE_v3.csv\")\n",
    "df"
   ]
  },
  {
   "cell_type": "code",
   "execution_count": null,
   "metadata": {},
   "outputs": [],
   "source": [
    "nuclear = df[df[\"wide_category\"] == \"Nuclear\"]\n",
    "nuclear"
   ]
  },
  {
   "cell_type": "code",
   "execution_count": null,
   "metadata": {},
   "outputs": [],
   "source": [
    "#wszystkie kategorie/transakcje są w tych samych jednostkach\n",
    "print(nuclear[\"unit\"].unique())\n",
    "print(nuclear[\"transaction\"].unique())\n",
    "print(nuclear[\"category\"].unique())\n",
    "print(nuclear[\"country_or_area\"].unique())"
   ]
  },
  {
   "cell_type": "code",
   "execution_count": null,
   "metadata": {},
   "outputs": [],
   "source": [
    "#suma wyprodukowanej energii nuklearnej posortowana wg lat i krajów\n",
    "grouped_nuc = nuclear.groupby(by=[\"year\",\"country_or_area\"], as_index = False)\n",
    "nuc_sum = pd.DataFrame(grouped_nuc[\"quantity\"].sum())\n",
    "nuc_sum"
   ]
  },
  {
   "cell_type": "code",
   "execution_count": null,
   "metadata": {},
   "outputs": [],
   "source": [
    "#top 5 pod względem \"quantity\" w 2014 (czyli ostatnim okresie w próbie)\n",
    "nuc_sum[nuc_sum[\"year\"] == 2014].nlargest(5, \"quantity\")"
   ]
  },
  {
   "cell_type": "code",
   "execution_count": null,
   "metadata": {},
   "outputs": [],
   "source": [
    "#DF dla średniej z top 5 \n",
    "#warunki\n",
    "var_1 = nuc_sum[\"country_or_area\"] == \"Germany\"\n",
    "var_2 = nuc_sum[\"country_or_area\"] == \"Spain\"\n",
    "var_3 = nuc_sum[\"country_or_area\"] == \"United Kingdom\"\n",
    "var_4 = nuc_sum[\"country_or_area\"] == \"France\"\n",
    "var_5 = nuc_sum[\"country_or_area\"] == \"Sweden\"\n",
    "#DF - wszystkie z top 5\n",
    "top_5_nuc = nuc_sum[var_1 | var_2 | var_3 | var_4 | var_5] \n",
    "#Groupby po roku ze średnią\n",
    "top_5_grouped_nuc = top_5_nuc.groupby(by=[\"year\"], as_index = False)\n",
    "mean_top_5_nuc = pd.DataFrame(top_5_grouped_nuc[\"quantity\"].mean())"
   ]
  },
  {
   "cell_type": "code",
   "execution_count": null,
   "metadata": {},
   "outputs": [],
   "source": [
    "# opis nuclear\n",
    "nuclear_descr = \"Nuclear power is the use of nuclear reactions that release nuclear energy to generate heat, which most frequently is then used in steam turbines to produce electricity in a nuclear power plant. Nuclear power can be obtained from nuclear fission, nuclear decay and nuclear fusion reactions.\""
   ]
  },
  {
   "cell_type": "code",
   "execution_count": null,
   "metadata": {},
   "outputs": [],
   "source": [
    "#widget nuc\n",
    "country_list_nuc = list(nuc_sum[\"country_or_area\"].unique())\n",
    "choice_widget_country_nuc = widgets.Dropdown(options=country_list_nuc)\n",
    "values_nuc = {\"Kraj\": choice_widget_country_nuc.value}\n",
    "def widgets_handler_nuc(country_choice_nuc):\n",
    "    values_nuc[\"Kraj\"] = country_choice_nuc\n",
    "    \n",
    "def widget_nuc():\n",
    "    widgets.interact(widgets_handler_nuc, country_choice_nuc=choice_widget_country_nuc)\n",
    "    print(nuclear_descr)"
   ]
  },
  {
   "cell_type": "code",
   "execution_count": null,
   "metadata": {},
   "outputs": [],
   "source": [
    "#wykres z sumą energii w totalu w danym kraju (wybranym z listy)\n",
    "def plot_total_nuc():\n",
    "    x = nuc_sum[nuc_sum[\"country_or_area\"] == values_nuc[\"Kraj\"]]\n",
    "    plt.figure(figsize=(8, 6))\n",
    "    plt.plot(\"year\", \"quantity\", data=x, label = \"total nuclear energy produced by {}\".format(values_nuc[\"Kraj\"]))\n",
    "    plt.plot(\"year\", \"quantity\", data = mean_top_5_nuc, label = \"total nuclear energy produced by top 5 countries (mean)\")\n",
    "    plt.legend()\n",
    "    plt.xlim(1990, 2015)\n",
    "    plt.title(label = \"nuclear energy produced in {} in comparison with mean of top 5\".format(values_nuc[\"Kraj\"]))\n",
    "    plt.show()"
   ]
  },
  {
   "cell_type": "code",
   "execution_count": null,
   "metadata": {},
   "outputs": [],
   "source": [
    "widget_nuc()\n",
    "plot_total_nuc()"
   ]
  }
 ],
 "metadata": {
  "kernelspec": {
   "display_name": "Python 3.7.6 64-bit ('base': conda)",
   "language": "python",
   "name": "python37664bitbaseconda142b22abb85e4b4b91528d66a9136cb4"
  },
  "language_info": {
   "codemirror_mode": {
    "name": "ipython",
    "version": 3
   },
   "file_extension": ".py",
   "mimetype": "text/x-python",
   "name": "python",
   "nbconvert_exporter": "python",
   "pygments_lexer": "ipython3",
   "version": "3.7.6"
  }
 },
 "nbformat": 4,
 "nbformat_minor": 4
}
