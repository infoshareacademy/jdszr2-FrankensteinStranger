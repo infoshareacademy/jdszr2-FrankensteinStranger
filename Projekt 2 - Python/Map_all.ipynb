{
 "cells": [
  {
   "cell_type": "code",
   "execution_count": null,
   "metadata": {},
   "outputs": [],
   "source": [
    "import pycountry\n",
    "import plotly.express as px\n",
    "import pandas as pd\n",
    "import ipywidgets as widgets\n",
    "df1 = pd.read_csv(\"energy_statistics_UE_v3.csv\")\n",
    "df1"
   ]
  },
  {
   "cell_type": "code",
   "execution_count": null,
   "metadata": {},
   "outputs": [],
   "source": [
    "list_countries = df1['country_or_area'].unique().tolist()\n",
    "list_countries"
   ]
  },
  {
   "cell_type": "code",
   "execution_count": null,
   "metadata": {},
   "outputs": [],
   "source": [
    "d_country_code = {}  # To hold the country names and their ISO\n",
    "for country in list_countries:\n",
    "    try:\n",
    "        country_data = pycountry.countries.search_fuzzy(country)\n",
    "        # country_data is a list of objects of class pycountry.db.Country\n",
    "        # The first item  ie at index 0 of list is best fit\n",
    "        # object of class Country have an alpha_3 attribute\n",
    "        country_code = country_data[0].alpha_3\n",
    "        d_country_code.update({country: country_code})\n",
    "    except:\n",
    "        print('could not add ISO 3 code for ->', country)\n",
    "        # If could not find country, make ISO code ' '\n",
    "        d_country_code.update({country: ' '})\n",
    "        \n",
    "d_country_code       "
   ]
  },
  {
   "cell_type": "code",
   "execution_count": null,
   "metadata": {},
   "outputs": [],
   "source": [
    "def mapping(el):\n",
    "    iso_code = d_country_code.get(el)\n",
    "    return iso_code"
   ]
  },
  {
   "cell_type": "code",
   "execution_count": null,
   "metadata": {},
   "outputs": [],
   "source": [
    "df1[\"ISO_code\"] = df1[\"country_or_area\"].apply(mapping)\n",
    "df1"
   ]
  },
  {
   "cell_type": "code",
   "execution_count": null,
   "metadata": {},
   "outputs": [],
   "source": [
    "var_1 = df1[\"wide_category\"] == \"Green\"\n",
    "var_2 = df1[\"wide_category\"] == \"Nuclear\"\n",
    "var_3 = df1[\"wide_category\"] == \"Electricity_and_Heat\"\n",
    "df1 = df1[var_1 | var_2 | var_3]\n",
    "df1 = df1[df1[\"unit\"] == \"Kilowatt-hours, million\"]\n",
    "df1 = df1[df1[\"transaction\"].notna()]\n",
    "df1 = df1[df1[\"transaction\"].str.contains(\"production\",case = False)]\n",
    "df1 = df1[df1[\"transaction\"] != \"net production\"] \n",
    "df1 = df1[df1[\"transaction\"] != \"total production, main activity\"]\n",
    "df1 = df1[df1[\"transaction\"] != \"total production, autoproducer\"]\n",
    "df1"
   ]
  },
  {
   "cell_type": "code",
   "execution_count": null,
   "metadata": {},
   "outputs": [],
   "source": [
    "green = df1[df1[\"wide_category\"] == \"Green\"]\n",
    "grouped_green = green.groupby(by=[\"year\",\"country_or_area\", \"ISO_code\"], as_index = False)\n",
    "gg = pd.DataFrame(grouped_green[\"quantity\"].sum())\n",
    "gg"
   ]
  },
  {
   "cell_type": "code",
   "execution_count": null,
   "metadata": {},
   "outputs": [],
   "source": [
    "nuclear = df1[df1[\"wide_category\"] == \"Nuclear\"]\n",
    "grouped_nuclear = nuclear.groupby(by=[\"year\",\"country_or_area\", \"ISO_code\"], as_index = False)\n",
    "gn = pd.DataFrame(grouped_nuclear[\"quantity\"].sum())\n",
    "gn"
   ]
  },
  {
   "cell_type": "code",
   "execution_count": null,
   "metadata": {},
   "outputs": [],
   "source": [
    "electricity = df1[df1[\"wide_category\"] == \"Electricity_and_Heat\"]\n",
    "grouped_electricity = electricity.groupby(by=[\"year\",\"country_or_area\", \"ISO_code\"], as_index = False)\n",
    "ge = pd.DataFrame(grouped_electricity[\"quantity\"].sum())\n",
    "ge"
   ]
  },
  {
   "cell_type": "code",
   "execution_count": null,
   "metadata": {},
   "outputs": [],
   "source": [
    "category_list_map = list(df1[\"wide_category\"].unique())\n",
    "choice_widget_category_map = widgets.Dropdown(options=category_list_map)\n",
    "values_map = {\"Kategoria\": choice_widget_category_map.value}\n",
    "def widgets_handler_map(category_choice_map):\n",
    "    values_map[\"Kategoria\"] = category_choice_map\n",
    "    \n",
    "def widget_map():\n",
    "    widgets.interact(widgets_handler_map, category_choice_map=choice_widget_category_map)\n"
   ]
  },
  {
   "cell_type": "code",
   "execution_count": null,
   "metadata": {},
   "outputs": [],
   "source": [
    "def print_map():\n",
    "    fig = px.choropleth(data_frame = df1[df1[\"wide_category\"] == values_map[\"Kategoria\"]].sort_values(by = \"year\"),\n",
    "                        scope= \"europe\",\n",
    "                        locations= \"ISO_code\",\n",
    "                        color= \"quantity\",  # value in column 'quantity' determines color\n",
    "                        hover_name= \"country_or_area\",\n",
    "                        color_continuous_scale= 'RdYlGn',#  color scale red, yellow green\n",
    "                        animation_frame= \"year\",\n",
    "                        title = \"{} energy produced in UE (MkWh)\".format(values_map[\"Kategoria\"]))\n",
    "    fig.show()"
   ]
  },
  {
   "cell_type": "code",
   "execution_count": null,
   "metadata": {},
   "outputs": [],
   "source": [
    "def print_map_green():\n",
    "    fig = px.choropleth(data_frame = gg,\n",
    "                        scope= \"europe\",\n",
    "                        locations= \"ISO_code\",\n",
    "                        color= \"quantity\",  # value in column 'quantity' determines color\n",
    "                        hover_name= \"country_or_area\",\n",
    "                        color_continuous_scale= 'RdYlGn',#  color scale red, yellow green\n",
    "                        animation_frame= \"year\",\n",
    "                        title = \"Green energy produced in UE (MkWh)\")\n",
    "    fig.show()"
   ]
  },
  {
   "cell_type": "code",
   "execution_count": null,
   "metadata": {},
   "outputs": [],
   "source": [
    "def print_map_nuclear():\n",
    "    fig = px.choropleth(data_frame = gn,\n",
    "                        scope= \"europe\",\n",
    "                        locations= \"ISO_code\",\n",
    "                        color= \"quantity\",  # value in column 'quantity' determines color\n",
    "                        hover_name= \"country_or_area\",\n",
    "                        color_continuous_scale= 'RdYlGn',#  color scale red, yellow green\n",
    "                        animation_frame= \"year\",\n",
    "                        title = \"Nuclear energy produced in UE (MkWh)\")\n",
    "    fig.show()"
   ]
  },
  {
   "cell_type": "code",
   "execution_count": null,
   "metadata": {},
   "outputs": [],
   "source": [
    "def print_map_electricity():\n",
    "    fig = px.choropleth(data_frame = ge,\n",
    "                        scope= \"europe\",\n",
    "                        locations= \"ISO_code\",\n",
    "                        color= \"quantity\",  # value in column 'quantity' determines color\n",
    "                        hover_name= \"country_or_area\",\n",
    "                        color_continuous_scale= 'RdYlGn',#  color scale red, yellow green\n",
    "                        animation_frame= \"year\",\n",
    "                        title = \"Electricity produced in UE (MkWh)\")\n",
    "    fig.show()"
   ]
  },
  {
   "cell_type": "code",
   "execution_count": null,
   "metadata": {},
   "outputs": [],
   "source": [
    "#wersja z widgetem\n",
    "widget_map()\n",
    "print_map()"
   ]
  },
  {
   "cell_type": "code",
   "execution_count": null,
   "metadata": {},
   "outputs": [],
   "source": [
    "#wersja bez widgetu\n",
    "print_map_green()\n",
    "print_map_nuclear()\n",
    "print_map_electricity()"
   ]
  }
 ],
 "metadata": {
  "kernelspec": {
   "display_name": "Python 3",
   "language": "python",
   "name": "python3"
  },
  "language_info": {
   "codemirror_mode": {
    "name": "ipython",
    "version": 3
   },
   "file_extension": ".py",
   "mimetype": "text/x-python",
   "name": "python",
   "nbconvert_exporter": "python",
   "pygments_lexer": "ipython3",
   "version": "3.7.9-final"
  }
 },
 "nbformat": 4,
 "nbformat_minor": 2
}