{
 "cells": [
  {
   "cell_type": "code",
   "execution_count": null,
   "metadata": {},
   "outputs": [],
   "source": [
    "import numpy as np\n",
    "import pandas as pd\n",
    "import matplotlib.pyplot as plt\n",
    "from matplotlib.ticker import (AutoMinorLocator, MultipleLocator)\n",
    "from matplotlib.pyplot import cm\n",
    "import seaborn as sns\n",
    "import ipywidgets as widgets\n",
    "%matplotlib inline"
   ]
  },
  {
   "cell_type": "code",
   "execution_count": null,
   "metadata": {},
   "outputs": [],
   "source": [
    "data_frame = pd.read_csv(\"energy_gross_prod_UE.csv\")\n",
    "data_frame"
   ]
  },
  {
   "cell_type": "code",
   "execution_count": null,
   "metadata": {},
   "outputs": [],
   "source": [
    "#data_frame z produkcją energii per rok per kraj - będzie przydatne w wykresach %\n",
    "gross_prod = data_frame[[\"country_or_area\", \"year\", \"quantity\"]].groupby(by = [\"country_or_area\", \"year\"], as_index = False).sum()\n",
    "gross_prod"
   ]
  },
  {
   "cell_type": "code",
   "execution_count": null,
   "metadata": {},
   "outputs": [],
   "source": [
    "#DF gross green energy production per kraj per rok\n",
    "green_only = data_frame[data_frame[\"wide_category\"] == \"Green\"]\n",
    "gross_green_prod = green_only[[\"country_or_area\", \"year\", \"quantity\"]].groupby(by = [\"country_or_area\", \"year\"], as_index = False).sum()\n",
    "gross_green_prod"
   ]
  },
  {
   "cell_type": "code",
   "execution_count": null,
   "metadata": {},
   "outputs": [],
   "source": [
    "#dołączenie nowej kulmny do DF z sumą całkowitej energii per rok per kraj\n",
    "green = pd.merge(gross_green_prod, gross_prod, on = [\"country_or_area\",\"year\"], how = \"right\")\n",
    "green"
   ]
  },
  {
   "cell_type": "code",
   "execution_count": null,
   "metadata": {},
   "outputs": [],
   "source": [
    "#zamiana NaN na 0 dla krajów, które nie mają w ogóle green energy\n",
    "green[\"quantity_x\"] = green[\"quantity_x\"].fillna(0)\n",
    "green"
   ]
  },
  {
   "cell_type": "code",
   "execution_count": null,
   "metadata": {},
   "outputs": [],
   "source": [
    "#zmiana nazw dla kolumn wskazujących ilość - kolumna gross_year_qty pokazuje całkowitą ilość produkcji energii dla danego kraju\n",
    "green = green.rename(columns={\"quantity_x\":\"quantity_green\", \"quantity_y\":\"gross_year_qty\"})\n",
    "green"
   ]
  },
  {
   "cell_type": "code",
   "execution_count": null,
   "metadata": {},
   "outputs": [],
   "source": [
    "#dodanie kolumny z procentowym udziałem green energy \n",
    "green[\"% udział\"] = green[\"quantity_green\"]/green[\"gross_year_qty\"]\n",
    "green"
   ]
  },
  {
   "cell_type": "code",
   "execution_count": null,
   "metadata": {},
   "outputs": [],
   "source": [
    "#wykres pokazujący procentowy udział energii zielonej dla wszystkich krajów UE\n",
    "#kolorki już są różne dla każdego kraju, ale wykres jest bardzo nieczytelny\n",
    "list_countries = green[\"country_or_area\"].unique()\n",
    "\n",
    "n = len(list_countries) #ilość kolorów potrzebna do wykresu\n",
    "\n",
    "plt.figure(figsize=(15,10))\n",
    "plt.xticks( fontsize=16)\n",
    "plt.yticks( fontsize=16)\n",
    "\n",
    "#definiowanie linii kolorystycznej\n",
    "#https://matplotlib.org/3.3.3/gallery/color/colormap_reference.html\n",
    "\n",
    "color = iter(cm.gist_rainbow(np.linspace(0,1,n)))\n",
    "\n",
    "for country in list(list_countries):\n",
    "    country_data = green[green.country_or_area.isin([country])].sort_values('year')\n",
    "    c = next(color)\n",
    "    plt.plot(country_data[\"year\"],country_data[\"% udział\"]*100,label=country,c=c)\n",
    "\n",
    "plt.legend(bbox_to_anchor=(1.05, 1), loc='upper left', borderaxespad=0.,fontsize=15)\n",
    "plt.ylabel(\"Green energy %\",fontsize=20)\n",
    "plt.xlabel('Year',fontsize=20)\n",
    "plt.title('% of green energy production per country per year',fontsize=24)\n",
    "plt.xlim(1990, 2014)\n",
    "plt.show()"
   ]
  },
  {
   "cell_type": "code",
   "execution_count": null,
   "metadata": {},
   "outputs": [],
   "source": [
    "#ten sam wykres co wyżej, ale dla top 10 krajów z największym udziałem procentowym \n",
    "green_top10 = green[green[\"year\"] == 2014].nlargest(10, \"% udział\")\n",
    "green_top10"
   ]
  },
  {
   "cell_type": "code",
   "execution_count": null,
   "metadata": {},
   "outputs": [],
   "source": [
    "list_countries = green_top10[\"country_or_area\"].unique()\n",
    "\n",
    "n = len(list_countries) #ilość kolorów potrzebna do wykresu\n",
    "\n",
    "fig, ax = plt.subplots(figsize=(13, 8))\n",
    "plt.xticks(fontsize=12, rotation = 90)\n",
    "plt.yticks(fontsize=12)\n",
    "\n",
    "#ustawianie osi X, żeby wyświetlała wszystkie lata po kolei, a nie co 5.\n",
    "ax.set_xlim(0, 2014)\n",
    "ax.xaxis.set_major_locator(MultipleLocator(1))\n",
    "\n",
    "#tworzenie siatki, żeby wykres był bardziej czytelny\n",
    "ax.grid(which='major', color='#CCCCCC', linestyle='--')\n",
    "ax.grid(which='minor', color='#CCCCCC', linestyle=':')\n",
    "\n",
    "#definiowanie linii kolorystycznej\n",
    "#https://matplotlib.org/3.3.3/gallery/color/colormap_reference.html\n",
    "\n",
    "color = iter(cm.tab10(np.linspace(0,1,n)))\n",
    "\n",
    "for country in list(list_countries):\n",
    "    country_data = green[green.country_or_area.isin([country])].sort_values('year')\n",
    "    c = next(color)\n",
    "    plt.plot(country_data[\"year\"],country_data[\"% udział\"]*100,label=country,c=c)\n",
    "\n",
    "plt.legend(bbox_to_anchor=(1.05, 1), loc='upper left', borderaxespad=0.,fontsize=15)\n",
    "plt.ylabel(\"Green energy %\",fontsize=20)\n",
    "plt.xlabel('Year',fontsize=20)\n",
    "plt.title('% of green energy production per top 10 countries per year',fontsize=24)\n",
    "plt.xlim(1990, 2014)\n",
    "plt.show()"
   ]
  },
  {
   "cell_type": "code",
   "execution_count": null,
   "metadata": {},
   "outputs": [],
   "source": [
    "#przygotowanie takiej samej analizy dla \"brudnej\" energii czyli Electricity_and_Heat\n",
    "\n",
    "#DF gross green energy production per kraj per rok\n",
    "bad_only = data_frame[data_frame[\"wide_category\"] == \"Electricity_and_Heat\"]\n",
    "gross_bad_prod = bad_only[[\"country_or_area\", \"year\", \"quantity\"]].groupby(by = [\"country_or_area\", \"year\"], as_index = False).sum()\n",
    "gross_bad_prod"
   ]
  },
  {
   "cell_type": "code",
   "execution_count": null,
   "metadata": {},
   "outputs": [],
   "source": [
    "#dołączenie nowej kulmny do DF z sumą całkowitej energii per rok per kraj\n",
    "heat_and_el = pd.merge(gross_bad_prod, gross_prod, on = [\"country_or_area\",\"year\"], how = \"right\")\n",
    "heat_and_el"
   ]
  },
  {
   "cell_type": "code",
   "execution_count": null,
   "metadata": {},
   "outputs": [],
   "source": [
    "#zamiana NaN na 0 dla krajów, które nie mają w ogóle green energy\n",
    "heat_and_el[\"quantity_x\"] = heat_and_el[\"quantity_x\"].fillna(0)\n",
    "heat_and_el"
   ]
  },
  {
   "cell_type": "code",
   "execution_count": null,
   "metadata": {},
   "outputs": [],
   "source": [
    "#zmiana nazw dla kolumn wskazujących ilość - kolumna gross_year_qty pokazuje całkowitą ilość produkcji energii dla danego kraju\n",
    "heat_and_el = heat_and_el.rename(columns={\"quantity_x\":\"quantity_heat\", \"quantity_y\":\"gross_year_qty\"})\n",
    "heat_and_el"
   ]
  },
  {
   "cell_type": "code",
   "execution_count": null,
   "metadata": {},
   "outputs": [],
   "source": [
    "#dodanie kolumny z procentowym udziałem green energy \n",
    "heat_and_el[\"% udział\"] = heat_and_el[\"quantity_heat\"]/heat_and_el[\"gross_year_qty\"]\n",
    "heat_and_el"
   ]
  },
  {
   "cell_type": "code",
   "execution_count": null,
   "metadata": {},
   "outputs": [],
   "source": [
    "#wykres pokazujący procentowy udział energii \"burdnej\" dla wszystkich krajów UE\n",
    "#kolorki już są różne dla każdego kraju, ale wykres jest bardzo nieczytelny\n",
    "list_countries = heat_and_el[\"country_or_area\"].unique()\n",
    "\n",
    "n = len(list_countries) #ilość kolorów potrzebna do wykresu\n",
    "\n",
    "plt.figure(figsize=(15,10))\n",
    "plt.xticks( fontsize=16)\n",
    "plt.yticks( fontsize=16)\n",
    "\n",
    "#definiowanie linii kolorystycznej\n",
    "#https://matplotlib.org/3.3.3/gallery/color/colormap_reference.html\n",
    "\n",
    "color = iter(cm.gist_rainbow(np.linspace(0,1,n)))\n",
    "\n",
    "for country in list(list_countries):\n",
    "    country_data = heat_and_el[heat_and_el.country_or_area.isin([country])].sort_values('year')\n",
    "    c = next(color)\n",
    "    plt.plot(country_data[\"year\"],country_data[\"% udział\"]*100,label=country,c=c)\n",
    "\n",
    "plt.legend(bbox_to_anchor=(1.05, 1), loc='upper left', borderaxespad=0.,fontsize=15)\n",
    "plt.ylabel(\"heat energy %\",fontsize=20)\n",
    "plt.xlabel('Year',fontsize=20)\n",
    "plt.title('% of heat energy production per country per year',fontsize=24)\n",
    "plt.xlim(1990, 2014)\n",
    "plt.show()"
   ]
  },
  {
   "cell_type": "code",
   "execution_count": null,
   "metadata": {},
   "outputs": [],
   "source": [
    "#ten sam wykres co wyżej, ale dla top 10 krajów z największym udziałem procentowym \n",
    "bad_top10 = heat_and_el[heat_and_el[\"year\"] == 2014].nlargest(10, \"% udział\")\n",
    "bad_top10"
   ]
  },
  {
   "cell_type": "code",
   "execution_count": null,
   "metadata": {},
   "outputs": [],
   "source": [
    "list_countries = bad_top10[\"country_or_area\"].unique()\n",
    "\n",
    "n = len(list_countries) #ilość kolorów potrzebna do wykresu\n",
    "\n",
    "fig, ax = plt.subplots(figsize=(13, 8))\n",
    "plt.xticks(fontsize=12, rotation = 90)\n",
    "plt.yticks(fontsize=12)\n",
    "\n",
    "#ustawianie osi X, żeby wyświetlała wszystkie lata po kolei, a nie co 5.\n",
    "ax.set_xlim(0, 2014)\n",
    "ax.xaxis.set_major_locator(MultipleLocator(1))\n",
    "\n",
    "#tworzenie siatki, żeby wykres był bardziej czytelny\n",
    "ax.grid(which='major', color='#CCCCCC', linestyle='--')\n",
    "ax.grid(which='minor', color='#CCCCCC', linestyle=':')\n",
    "\n",
    "#definiowanie linii kolorystycznej\n",
    "#https://matplotlib.org/3.3.3/gallery/color/colormap_reference.html\n",
    "\n",
    "color = iter(cm.tab10(np.linspace(0,1,n)))\n",
    "\n",
    "for country in list(list_countries):\n",
    "    country_data = heat_and_el[heat_and_el.country_or_area.isin([country])].sort_values('year')\n",
    "    c = next(color)\n",
    "    plt.plot(country_data[\"year\"],country_data[\"% udział\"]*100,label=country,c=c)\n",
    "\n",
    "plt.legend(bbox_to_anchor=(1.05, 1), loc='upper left', borderaxespad=0.,fontsize=15)\n",
    "plt.ylabel(\"heat energy %\",fontsize=20)\n",
    "plt.xlabel('Year',fontsize=20)\n",
    "plt.title('% of heat energy production per top 10 countries per year',fontsize=24)\n",
    "plt.xlim(1990, 2014)\n",
    "plt.show()"
   ]
  }
 ],
 "metadata": {
  "kernelspec": {
   "display_name": "Python 3",
   "language": "python",
   "name": "python3"
  },
  "language_info": {
   "codemirror_mode": {
    "name": "ipython",
    "version": 3
   },
   "file_extension": ".py",
   "mimetype": "text/x-python",
   "name": "python",
   "nbconvert_exporter": "python",
   "pygments_lexer": "ipython3",
   "version": "3.7.6"
  }
 },
 "nbformat": 4,
 "nbformat_minor": 4
}
