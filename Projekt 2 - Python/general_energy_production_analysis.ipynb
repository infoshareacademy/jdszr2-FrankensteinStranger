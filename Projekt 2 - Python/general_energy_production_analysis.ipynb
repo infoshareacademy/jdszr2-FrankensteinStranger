{
 "cells": [
  {
   "cell_type": "code",
   "execution_count": null,
   "metadata": {},
   "outputs": [],
   "source": [
    "import pandas as pd\n",
    "import numpy as np\n",
    "import matplotlib.pyplot as plt\n",
    "import seaborn as sns"
   ]
  },
  {
   "cell_type": "code",
   "execution_count": null,
   "metadata": {},
   "outputs": [],
   "source": [
    "data_frame = pd.read_csv(\"energy_statistics_UE_.csv\")\n",
    "data_frame"
   ]
  },
  {
   "cell_type": "code",
   "execution_count": null,
   "metadata": {},
   "outputs": [],
   "source": [
    "#odfiltrowanie energii wiatrowej\n",
    "df = data_frame[data_frame[\"transaction\"] == \"total wind production\"]\n",
    "df"
   ]
  },
  {
   "cell_type": "code",
   "execution_count": null,
   "metadata": {},
   "outputs": [],
   "source": [
    "#wykres dla całej UE - energia z wiatru - wersja z bajerami do sterowania wielkością wykresu\n",
    "plt.figure(figsize=(13,8))\n",
    "plt.xticks( fontsize=12)\n",
    "plt.yticks( fontsize=12)\n",
    "\n",
    "plt.plot(df[[\"quantity\", \"year\"]].groupby(by=\"year\").sum(),label=\"All UE countries\")\n",
    "\n",
    "plt.legend(fontsize=14)\n",
    "plt.ylabel(\"Millions of Kilowatts-Hour\",fontsize=20)\n",
    "plt.xlabel('Year',fontsize=20)\n",
    "plt.title('Total Wind production in the EU',fontsize=24)\n",
    "plt.xlim(1990, 2014)\n",
    "plt.show()"
   ]
  },
  {
   "cell_type": "code",
   "execution_count": null,
   "metadata": {},
   "outputs": [],
   "source": [
    "#lista krajów, które mają produkcję energii z wiatru\n",
    "list_countries = df[\"country_or_area\"].unique()\n",
    "print(list_countries)"
   ]
  },
  {
   "cell_type": "code",
   "execution_count": null,
   "metadata": {},
   "outputs": [],
   "source": [
    "#tworzenie wykresu dla wszystkich krajów UE - energia z wiatru\n",
    "#kolory się powtarzają - będę z tym walczyć!\n",
    "\n",
    "plt.figure(figsize=(15,10))\n",
    "plt.xticks( fontsize=16)\n",
    "plt.yticks( fontsize=16)\n",
    "\n",
    "for country in list(list_countries):\n",
    "    country_data = df[df.country_or_area.isin([country])].sort_values('year')\n",
    "    plt.plot(country_data[\"year\"],country_data[\"quantity\"],label=country)\n",
    "\n",
    "plt.legend(bbox_to_anchor=(1.05, 1), loc='upper left', borderaxespad=0.,fontsize=15)\n",
    "plt.ylabel(\"Millions of Kilowatts-Hour\",fontsize=20)\n",
    "plt.xlabel('Year',fontsize=20)\n",
    "plt.title('Total Wind production in the EU by country',fontsize=24)\n",
    "plt.xlim(1990, 2014)\n",
    "plt.show()"
   ]
  },
  {
   "cell_type": "code",
   "execution_count": null,
   "metadata": {},
   "outputs": [],
   "source": [
    "#odfiltrowanie wyników dla jednostki kWh w celu sprawdzenia czy da się wyciągnąć procent energii prod z wiatru\n",
    "#wykres procentowy, nie tylko ilościowy dawałby lepszy kontekst \n",
    "df_kWh = data_frame[data_frame[\"unit\"] == \"Kilowatt-hours, million\"]\n",
    "df_kWh"
   ]
  },
  {
   "cell_type": "code",
   "execution_count": null,
   "metadata": {},
   "outputs": [],
   "source": [
    "#sprawdzenie jak wygląda rozkład kategorii i tranzakcji dla energii\n",
    "list_category = df_kWh[\"wide_category\"].unique()\n",
    "print(list_category)\n",
    "\n",
    "list_transaction = df_kWh[\"transaction\"].unique()\n",
    "print(list_transaction)"
   ]
  },
  {
   "cell_type": "code",
   "execution_count": null,
   "metadata": {},
   "outputs": [],
   "source": [
    "#odfiltrowanie tylko produkcji energii\n",
    "\n",
    "#usuwanie NaN z kolumny transaction\n",
    "df_kWh = df_kWh[df_kWh[\"transaction\"].notna()] \n",
    "df_kWh"
   ]
  },
  {
   "cell_type": "code",
   "execution_count": null,
   "metadata": {},
   "outputs": [],
   "source": [
    "df_kWh_prod = df_kWh[df_kWh[\"transaction\"].str.contains(\"production\",case = False)]\n",
    "df_kWh_prod"
   ]
  },
  {
   "cell_type": "code",
   "execution_count": null,
   "metadata": {},
   "outputs": [],
   "source": [
    "#ogólny wykres dla całej UE dla ogólnych kategorii\n",
    "#najlepszy byłby stackowy, ale jeszcze mi się nie udało :D\n",
    "\n",
    "plt.figure(figsize=(13,8))\n",
    "plt.xticks( fontsize=12)\n",
    "plt.yticks( fontsize=12)\n",
    "\n",
    "for category in list(list_category):\n",
    "    cat_data = df_kWh_prod[df_kWh_prod[\"wide_category\"] == category]\n",
    "    plt.plot(cat_data[[\"quantity\", \"year\"]].groupby(by=\"year\").sum(),label=category)\n",
    "    \n",
    "plt.legend(fontsize=14)\n",
    "plt.ylabel(\"Millions of Kilowatts-Hour\",fontsize=20)\n",
    "plt.xlabel('Year',fontsize=20)\n",
    "plt.title('Energy production category',fontsize=24)\n",
    "plt.xlim(1990, 2014)\n",
    "plt.show()"
   ]
  },
  {
   "cell_type": "code",
   "execution_count": null,
   "metadata": {},
   "outputs": [],
   "source": [
    "#udział poszczególnych źródeł w kategoriach\n",
    "#nie jestem pewna co to jest gross production, net production, są tylko do kategorii Electricity and heat\n",
    "list_trans = df_kWh_prod[\"transaction\"].unique()\n",
    "print(list_trans)"
   ]
  },
  {
   "cell_type": "code",
   "execution_count": null,
   "metadata": {},
   "outputs": [],
   "source": [
    "#Green category\n",
    "#do sprawdzenia o co chodzi z total thermal production - czy to jakieś biofuel, dlaczego jest w kategorii green\n",
    "\n",
    "Green_prod = df_kWh_prod[df_kWh_prod[\"wide_category\"] == \"Green\"]\n",
    "list_trans_green = Green_prod[\"transaction\"].unique()\n",
    "\n",
    "plt.figure(figsize=(13,8))\n",
    "plt.xticks( fontsize=12)\n",
    "plt.yticks( fontsize=12)\n",
    "\n",
    "for tran in list(list_trans_green):\n",
    "    tran_data = Green_prod[Green_prod[\"transaction\"] == tran]\n",
    "    plt.plot(tran_data[[\"quantity\", \"year\"]].groupby(by=\"year\").sum(),label=tran)\n",
    "    \n",
    "plt.legend(bbox_to_anchor=(1.05, 1), loc='upper left', borderaxespad=0.,fontsize=14)\n",
    "plt.ylabel(\"Millions of Kilowatts-Hour\",fontsize=20)\n",
    "plt.xlabel('Year',fontsize=20)\n",
    "plt.title('Green energy in EU by energy source',fontsize=24)\n",
    "plt.xlim(1990, 2014)\n",
    "plt.show()"
   ]
  },
  {
   "cell_type": "code",
   "execution_count": null,
   "metadata": {},
   "outputs": [],
   "source": [
    "#kategoria Electricity and heat\n",
    "#kolejne pytanie, które dane brać gross, net czy total production, main activity?\n",
    "\n",
    "el_prod = df_kWh_prod[df_kWh_prod[\"wide_category\"] == \"Electricity_and_Heat\"]\n",
    "list_trans_el = el_prod[\"transaction\"].unique()\n",
    "\n",
    "plt.figure(figsize=(13,8))\n",
    "plt.xticks( fontsize=12)\n",
    "plt.yticks( fontsize=12)\n",
    "\n",
    "for tran in list(list_trans_el):\n",
    "    tran_data = el_prod[el_prod[\"transaction\"] == tran]\n",
    "    plt.plot(tran_data[[\"quantity\", \"year\"]].groupby(by=\"year\").sum(),label=tran)\n",
    "    \n",
    "plt.legend(bbox_to_anchor=(1.05, 1), loc='upper left', borderaxespad=0.,fontsize=14)\n",
    "plt.ylabel(\"Millions of Kilowatts-Hour\",fontsize=20)\n",
    "plt.xlabel('Year',fontsize=20)\n",
    "plt.title('Energy and heat energy in EU by energy source',fontsize=24)\n",
    "plt.xlim(1990, 2014)\n",
    "plt.show()"
   ]
  },
  {
   "cell_type": "code",
   "execution_count": null,
   "metadata": {},
   "outputs": [],
   "source": []
  }
 ],
 "metadata": {
  "kernelspec": {
   "display_name": "Python 3",
   "language": "python",
   "name": "python3"
  },
  "language_info": {
   "codemirror_mode": {
    "name": "ipython",
    "version": 3
   },
   "file_extension": ".py",
   "mimetype": "text/x-python",
   "name": "python",
   "nbconvert_exporter": "python",
   "pygments_lexer": "ipython3",
   "version": "3.7.6"
  }
 },
 "nbformat": 4,
 "nbformat_minor": 4
}
