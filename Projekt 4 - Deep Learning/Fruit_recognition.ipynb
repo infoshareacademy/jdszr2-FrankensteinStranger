{
  "nbformat": 4,
  "nbformat_minor": 0,
  "metadata": {
    "colab": {
      "name": "Fruit_recognition.ipynb",
      "provenance": [],
      "collapsed_sections": []
    },
    "kernelspec": {
      "name": "python3",
      "display_name": "Python 3"
    },
    "language_info": {
      "name": "python"
    }
  },
  "cells": [
    {
      "cell_type": "code",
      "metadata": {
        "colab": {
          "base_uri": "https://localhost:8080/"
        },
        "id": "7SCZ55zEPhn9",
        "outputId": "832c6664-a516-43fc-ceb1-af46114f69ca"
      },
      "source": [
        "# dodawanie Google Drive'a (praca na Google Colab)\n",
        "\n",
        "from google.colab import drive\n",
        "drive.mount('/content/drive')"
      ],
      "execution_count": 1,
      "outputs": [
        {
          "output_type": "stream",
          "text": [
            "Mounted at /content/drive\n"
          ],
          "name": "stdout"
        }
      ]
    },
    {
      "cell_type": "code",
      "metadata": {
        "id": "18_DP7LyTccj"
      },
      "source": [
        "# import bibliotek\n",
        "\n",
        "import pandas as pd\n",
        "import numpy as np\n",
        "import seaborn as sns\n",
        "import os\n",
        "import glob\n",
        "import cv2\n",
        "import matplotlib.pyplot as plt\n",
        "\n",
        "from sklearn.utils import shuffle\n"
      ],
      "execution_count": 44,
      "outputs": []
    },
    {
      "cell_type": "code",
      "metadata": {
        "id": "qfLy4SJFTcn-"
      },
      "source": [
        "# funkcja do pobierania zdjęć z folderu\n",
        "\n",
        "def load_from_folder(folder, only_path = False, label = \"\"):\n",
        "    if only_path == False:\n",
        "        images = []\n",
        "        for filename in os.listdir(folder):\n",
        "            img = plt.imread(os.path.join(folder,filename))\n",
        "            if img is not None:\n",
        "                images.append(img)\n",
        "        return images\n",
        "    else:\n",
        "        path = []\n",
        "        for filename in os.listdir(folder):\n",
        "            img_path = os.path.join(folder,filename)\n",
        "            if img_path is not None:\n",
        "                path.append([label,img_path])\n",
        "        return path"
      ],
      "execution_count": 14,
      "outputs": []
    },
    {
      "cell_type": "code",
      "metadata": {
        "colab": {
          "base_uri": "https://localhost:8080/"
        },
        "id": "FslocmxDWJFu",
        "outputId": "976a1f79-f1e7-42fd-8f89-08b8300c0d7f"
      },
      "source": [
        "# lista folderów, w których są zdjecia na drivie\n",
        "\n",
        "files = glob.glob(f\"/content/drive/My Drive/Fruits/*\")\n",
        "for file_path in files:  \n",
        "  print(file_path)"
      ],
      "execution_count": 9,
      "outputs": [
        {
          "output_type": "stream",
          "text": [
            "/content/drive/My Drive/Fruits/Banana\n",
            "/content/drive/My Drive/Fruits/Mango\n",
            "/content/drive/My Drive/Fruits/Pear\n",
            "/content/drive/My Drive/Fruits/Orange\n",
            "/content/drive/My Drive/Fruits/Apple\n"
          ],
          "name": "stdout"
        }
      ]
    },
    {
      "cell_type": "code",
      "metadata": {
        "id": "1lWf8dC2UsfT"
      },
      "source": [
        "# ładowanie zdjęć i ścieżek (wymagana cierpliwość, bo chwilę to trwa)\n",
        "\n",
        "images = []\n",
        "\n",
        "for file_path in files:\n",
        "    if \"png\" in os.listdir(file_path)[0]:\n",
        "        images += load_from_folder(file_path,True,label = file_path.split(\"/\")[-1])"
      ],
      "execution_count": 39,
      "outputs": []
    },
    {
      "cell_type": "code",
      "metadata": {
        "id": "BfECH6g0UsqX"
      },
      "source": [
        "# tworzenie df ze ścieżkami i etykietami dla każdego owocu\n",
        "\n",
        "df = pd.DataFrame(images, columns = [\"fruit\", \"path\"])"
      ],
      "execution_count": 40,
      "outputs": []
    },
    {
      "cell_type": "code",
      "metadata": {
        "colab": {
          "base_uri": "https://localhost:8080/"
        },
        "id": "ETRNx0EedEvs",
        "outputId": "27b4f95a-a060-4ad2-ccdd-8c6a8a0fb06f"
      },
      "source": [
        "# mieszanie datasetu\n",
        "df = shuffle(df, random_state = 0)\n",
        "df = df.reset_index(drop=True)\n",
        "\n",
        "# Przypisanie każdemu owocowi etykiety z numerem\n",
        "fruit_names = sorted(df.fruit.unique())\n",
        "mapper_fruit_names = dict(zip(fruit_names, [t for t in range(len(fruit_names))]))\n",
        "df[\"label\"] = df[\"fruit\"].map(mapper_fruit_names)\n",
        "print(mapper_fruit_names)"
      ],
      "execution_count": 42,
      "outputs": [
        {
          "output_type": "stream",
          "text": [
            "{'Apple': 0, 'Banana': 1, 'Mango': 2, 'Orange': 3, 'Pear': 4}\n"
          ],
          "name": "stdout"
        }
      ]
    },
    {
      "cell_type": "code",
      "metadata": {
        "colab": {
          "base_uri": "https://localhost:8080/",
          "height": 204
        },
        "id": "7JrTkjDtdTLH",
        "outputId": "7a31e970-1510-47da-b119-20081b17f197"
      },
      "source": [
        "df.head()"
      ],
      "execution_count": 43,
      "outputs": [
        {
          "output_type": "execute_result",
          "data": {
            "text/html": [
              "<div>\n",
              "<style scoped>\n",
              "    .dataframe tbody tr th:only-of-type {\n",
              "        vertical-align: middle;\n",
              "    }\n",
              "\n",
              "    .dataframe tbody tr th {\n",
              "        vertical-align: top;\n",
              "    }\n",
              "\n",
              "    .dataframe thead th {\n",
              "        text-align: right;\n",
              "    }\n",
              "</style>\n",
              "<table border=\"1\" class=\"dataframe\">\n",
              "  <thead>\n",
              "    <tr style=\"text-align: right;\">\n",
              "      <th></th>\n",
              "      <th>fruit</th>\n",
              "      <th>path</th>\n",
              "      <th>label</th>\n",
              "    </tr>\n",
              "  </thead>\n",
              "  <tbody>\n",
              "    <tr>\n",
              "      <th>0</th>\n",
              "      <td>Pear</td>\n",
              "      <td>/content/drive/My Drive/Fruits/Pear/Pear 276.png</td>\n",
              "      <td>4</td>\n",
              "    </tr>\n",
              "    <tr>\n",
              "      <th>1</th>\n",
              "      <td>Apple</td>\n",
              "      <td>/content/drive/My Drive/Fruits/Apple/Apple 022...</td>\n",
              "      <td>0</td>\n",
              "    </tr>\n",
              "    <tr>\n",
              "      <th>2</th>\n",
              "      <td>Banana</td>\n",
              "      <td>/content/drive/My Drive/Fruits/Banana/Banana03...</td>\n",
              "      <td>1</td>\n",
              "    </tr>\n",
              "    <tr>\n",
              "      <th>3</th>\n",
              "      <td>Apple</td>\n",
              "      <td>/content/drive/My Drive/Fruits/Apple/Apple 018...</td>\n",
              "      <td>0</td>\n",
              "    </tr>\n",
              "    <tr>\n",
              "      <th>4</th>\n",
              "      <td>Banana</td>\n",
              "      <td>/content/drive/My Drive/Fruits/Banana/Banana06...</td>\n",
              "      <td>1</td>\n",
              "    </tr>\n",
              "  </tbody>\n",
              "</table>\n",
              "</div>"
            ],
            "text/plain": [
              "    fruit                                               path  label\n",
              "0    Pear   /content/drive/My Drive/Fruits/Pear/Pear 276.png      4\n",
              "1   Apple  /content/drive/My Drive/Fruits/Apple/Apple 022...      0\n",
              "2  Banana  /content/drive/My Drive/Fruits/Banana/Banana03...      1\n",
              "3   Apple  /content/drive/My Drive/Fruits/Apple/Apple 018...      0\n",
              "4  Banana  /content/drive/My Drive/Fruits/Banana/Banana06...      1"
            ]
          },
          "metadata": {
            "tags": []
          },
          "execution_count": 43
        }
      ]
    },
    {
      "cell_type": "code",
      "metadata": {
        "colab": {
          "base_uri": "https://localhost:8080/",
          "height": 366
        },
        "id": "ca4PzuGfeyfy",
        "outputId": "0268aa1f-cdbc-4f63-fdaf-da26ca886eae"
      },
      "source": [
        "# prezentacja liczności poszczególnych klas\n",
        "\n",
        "value_cnt = df[\"fruit\"].value_counts()\n",
        "plt.figure(figsize=(10,5))\n",
        "sns.barplot(x = value_cnt.index, y = value_cnt, palette = \"rocket\")\n",
        "plt.title(\"Number of pictures of each category\", fontsize = 15)\n",
        "plt.xticks(rotation=90)\n",
        "plt.show()"
      ],
      "execution_count": 45,
      "outputs": [
        {
          "output_type": "display_data",
          "data": {
            "image/png": "[encoded data removed]",
            "text/plain": [
              "<Figure size 720x360 with 1 Axes>"
            ]
          },
          "metadata": {
            "tags": [],
            "needs_background": "light"
          }
        }
      ]
    }
  ]
}